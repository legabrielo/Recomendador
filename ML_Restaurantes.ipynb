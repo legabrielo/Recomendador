{
 "cells": [
  {
   "attachments": {},
   "cell_type": "markdown",
   "metadata": {},
   "source": [
    "# Nuevo Proyecto Machine Learning \n",
    "\n",
    "- Este proyecto será un recomendador donde la persona deberá de poner ciertos features para recomendar un restaurante dentro de los que están en la guía Michelin. \n",
    "\n",
    "\n",
    "\n"
   ]
  },
  {
   "attachments": {},
   "cell_type": "markdown",
   "metadata": {},
   "source": [
    "## Extracción de datos"
   ]
  },
  {
   "cell_type": "code",
   "execution_count": 238,
   "metadata": {},
   "outputs": [],
   "source": [
    "#Para la manipulación de datos\n",
    "import pandas as pd\n",
    "import time\n",
    "import numpy as np\n",
    "\n",
    "#Servicio y driver de Chrome de Selenium\n",
    "from selenium import webdriver\n",
    "from selenium.webdriver.chrome.service import Service\n",
    "from webdriver_manager.chrome import ChromeDriverManager\n",
    "\n",
    "#Las opciones que vamos a tener para buscar elementos\n",
    "from selenium.webdriver.common.by import By\n",
    "\n",
    "#Para cuando queramos mandar pulsaciones de teclado\n",
    "from selenium.webdriver.common.keys import Keys\n",
    "\n",
    "# Para generar datos artificiales \n",
    "import random \n",
    "\n",
    "# Para crear el recomendador \n",
    "from sklearn.metrics import mean_squared_error\n",
    "from sklearn.model_selection import train_test_split\n",
    "from sklearn.neighbors import NearestNeighbors, KNeighborsClassifier\n",
    "import sklearn\n",
    "from sklearn.compose import ColumnTransformer\n",
    "from sklearn.preprocessing import OneHotEncoder, StandardScaler\n",
    "from sklearn.pipeline import Pipeline\n",
    "\n",
    "# Para el análsis de la muestra \n",
    "import matplotlib.pyplot as plt \n",
    "import seaborn as sns "
   ]
  },
  {
   "cell_type": "code",
   "execution_count": 2,
   "metadata": {},
   "outputs": [
    {
     "name": "stderr",
     "output_type": "stream",
     "text": [
      "[WDM] - Downloading: 100%|██████████| 6.80M/6.80M [01:05<00:00, 108kB/s] \n"
     ]
    }
   ],
   "source": [
    "# Creamos la conexión con la página web\n",
    "service = Service(ChromeDriverManager().install())\n",
    "driver = webdriver.Chrome(service=service)\n",
    "time.sleep(2)"
   ]
  },
  {
   "cell_type": "code",
   "execution_count": 3,
   "metadata": {},
   "outputs": [],
   "source": [
    "# Ponemos la página web \n",
    "url = 'https://guide.michelin.com/es/es'\n",
    "driver.get(url)\n"
   ]
  },
  {
   "cell_type": "code",
   "execution_count": 4,
   "metadata": {},
   "outputs": [
    {
     "name": "stdout",
     "output_type": "stream",
     "text": [
      "Aceptar y cerrar\n"
     ]
    }
   ],
   "source": [
    "# Encontrar las cookies\n",
    "elements_by_ID = driver.find_element(By.ID, 'didomi-notice-agree-button')\n",
    "print(elements_by_ID.text)\n"
   ]
  },
  {
   "cell_type": "code",
   "execution_count": 5,
   "metadata": {},
   "outputs": [],
   "source": [
    "# Aceptamos las cookies \n",
    "acepto = driver.find_element(By.ID, 'didomi-notice-agree-button')\n",
    "acepto.click()"
   ]
  },
  {
   "cell_type": "code",
   "execution_count": 6,
   "metadata": {},
   "outputs": [],
   "source": [
    "# Seleccionamos la barra y escribimos Madrid \n",
    "# Por ralguna razon el codigo solo me va cuando esta abierta la ventana del chrome a mitad \n",
    "# Hay algo en el codigo de la página que hace que el ID pase de ser 'autocomplete-0-input' a 'autocomplete-1-input'\n",
    "\n",
    "text = driver.find_element(By.ID, 'autocomplete-0-input')\n",
    "\n",
    "text.click()\n",
    "time.sleep(2)\n",
    "text.send_keys('Madrid')\n",
    "time.sleep(2)\n",
    "text.send_keys(Keys.ENTER)"
   ]
  },
  {
   "cell_type": "code",
   "execution_count": 7,
   "metadata": {},
   "outputs": [
    {
     "name": "stdout",
     "output_type": "stream",
     "text": [
      "\n"
     ]
    }
   ],
   "source": [
    "# Sacamos el nombre del restaurante \n",
    "\n",
    "titulo = driver.find_element(By.CSS_SELECTOR, 'h3')\n",
    "print(titulo.text)"
   ]
  },
  {
   "cell_type": "code",
   "execution_count": 8,
   "metadata": {},
   "outputs": [
    {
     "name": "stdout",
     "output_type": "stream",
     "text": [
      "Madrid, España\n"
     ]
    }
   ],
   "source": [
    "# Sacamos la ubicacion del restaurante \n",
    "\n",
    "ubi = driver.find_element(By.XPATH, '/html/body/main/section[1]/div/div/div[2]/div[14]/div/div[2]/div[2]')\n",
    "print(ubi.text)"
   ]
  },
  {
   "cell_type": "code",
   "execution_count": 9,
   "metadata": {},
   "outputs": [
    {
     "name": "stdout",
     "output_type": "stream",
     "text": [
      "€€€€ · Creativa\n"
     ]
    }
   ],
   "source": [
    "# Sacamos los euroes y el estilo del restaurante \n",
    "\n",
    "ubi = driver.find_element(By.XPATH, '/html/body/main/section[1]/div/div/div[2]/div[1]/div/div[2]/div[3]')\n",
    "print(ubi.text)"
   ]
  },
  {
   "cell_type": "code",
   "execution_count": 10,
   "metadata": {},
   "outputs": [],
   "source": [
    "# Cogemos todos los links que hay en la página\n",
    "# Hacemos una lista que tenga todos los URLS disponibles de la página para quedarnos con ellos \n",
    "\n",
    "urls = []\n",
    "for i in range(1,9,1):\n",
    "    link = f'https://guide.michelin.com/es/es/comunidad-de-madrid/madrid/restaurantes/page/{i}'\n",
    "    urls.append(link)"
   ]
  },
  {
   "cell_type": "code",
   "execution_count": 11,
   "metadata": {},
   "outputs": [
    {
     "name": "stdout",
     "output_type": "stream",
     "text": [
      "https://guide.michelin.com/es/es/comunidad-de-madrid/madrid/restaurantes/page/1\n",
      "https://guide.michelin.com/es/es/comunidad-de-madrid/madrid/restaurantes/page/2\n",
      "https://guide.michelin.com/es/es/comunidad-de-madrid/madrid/restaurantes/page/3\n",
      "https://guide.michelin.com/es/es/comunidad-de-madrid/madrid/restaurantes/page/4\n",
      "https://guide.michelin.com/es/es/comunidad-de-madrid/madrid/restaurantes/page/5\n",
      "https://guide.michelin.com/es/es/comunidad-de-madrid/madrid/restaurantes/page/6\n",
      "https://guide.michelin.com/es/es/comunidad-de-madrid/madrid/restaurantes/page/7\n",
      "https://guide.michelin.com/es/es/comunidad-de-madrid/madrid/restaurantes/page/8\n"
     ]
    }
   ],
   "source": [
    "# Hacemos el bucle para sacar los 154 datos\n",
    "\n",
    "\n",
    "lista_nombres = []\n",
    "lista_ubis = []\n",
    "lista_estilos = []\n",
    "\n",
    "for url in urls[:]:\n",
    "    # Ponemos el servidor donde queremos navegar \n",
    "\n",
    "    service = Service(ChromeDriverManager().install())\n",
    "    driver = webdriver.Chrome(service=service)\n",
    "    time.sleep(2)\n",
    "    driver.get(url)\n",
    "    time.sleep(2)\n",
    "\n",
    "    # Le damos click al boton de cookies \n",
    "    acepto = driver.find_element(By.ID, 'didomi-notice-agree-button')\n",
    "    acepto.click()\n",
    "\n",
    "    # Empezamos a crear los dataframes\n",
    "    nombre = driver.find_elements(By.CSS_SELECTOR, 'h3')\n",
    "    nombres = []\n",
    "    for titol in nombre:\n",
    "        nombres.append(titol.text)\n",
    "\n",
    "    if url != 'https://guide.michelin.com/es/es/comunidad-de-madrid/madrid/restaurantes/page/8':\n",
    "        for i in range(1,21,1):\n",
    "            ubi = driver.find_element(By.XPATH, value = f'/html/body/main/section[1]/div/div/div[2]/div{[i]}/div/div[2]/div[2]')\n",
    "            ubicacion = []\n",
    "            a = ubi.text\n",
    "            ubicacion.append(a)\n",
    "            lista_ubis.append(ubicacion)\n",
    "    else: \n",
    "        for i in range(1,15,1):\n",
    "            ubi = driver.find_element(By.XPATH, value = f'/html/body/main/section[1]/div/div/div[2]/div{[i]}/div/div[2]/div[2]')\n",
    "            ubicacion = []\n",
    "            a = ubi.text\n",
    "            ubicacion.append(a)\n",
    "            lista_ubis.append(ubicacion)\n",
    "\n",
    "\n",
    "    if url != 'https://guide.michelin.com/es/es/comunidad-de-madrid/madrid/restaurantes/page/8':\n",
    "        for i in range(1,21,1):\n",
    "            estilo = driver.find_element(By.XPATH, value = f'/html/body/main/section[1]/div/div/div[2]/div{[i]}/div/div[2]/div[3]')\n",
    "            style = []\n",
    "            b = estilo.text\n",
    "            style.append(b)\n",
    "            lista_estilos.append(style)\n",
    "    else: \n",
    "        for i in range(1,15,1):\n",
    "            estilo = driver.find_element(By.XPATH, value = f'/html/body/main/section[1]/div/div/div[2]/div{[i]}/div/div[2]/div[3]')\n",
    "            style = []\n",
    "            b = estilo.text\n",
    "            style.append(b)\n",
    "            lista_estilos.append(style)\n",
    "\n",
    "    lista_nombres.append(nombres)\n",
    "    print(url)\n",
    "    time.sleep(1)\n"
   ]
  },
  {
   "cell_type": "code",
   "execution_count": 12,
   "metadata": {},
   "outputs": [],
   "source": [
    "# Creamos un dataframe a mano de los restaurantes que tienen estrella \n",
    "\n",
    "estrellas = [2,0,0,0,0,0,1,0,0,0,0,0,0,0,0,0,0,0,0,2,0,0,0,0,0,1,0,0,0,0,0,2,0,0,0,0,0,0,0,0,\n",
    "                           0,0,1,0,0,0,0,0,0,0,1,0,1,0,0,0,0,0,0,0,0,0,0,0,0,3,0,0,2,0,0,0,0,1,0,0,0,0,0,0,\n",
    "                           0,0,0,0,0,0,0,0,0,0,0,1,0,0,0,0,0,0,0,0,2,0,0,0,0,1,0,0,0,0,0,0,0,0,0,0,0,0,1,1,\n",
    "                           1,0,0,1,0,0,0,0,0,1,0,3,0,0,0,0,1,0,0,0,0,0,0,0,0,0,0,0,0,0,0,0,0,0]"
   ]
  },
  {
   "cell_type": "code",
   "execution_count": 13,
   "metadata": {},
   "outputs": [],
   "source": [
    "# Hacemos que las listas sean de una sola dimension\n",
    "\n",
    "lista_names = []\n",
    "lista_location = []\n",
    "lista_style = []\n",
    "\n",
    "for i in lista_nombres:\n",
    "    for j in i:\n",
    "        lista_names.append(j)\n",
    "\n",
    "for i in lista_ubis:\n",
    "    for j in i:\n",
    "        lista_location.append(j)\n",
    "\n",
    "for i in lista_estilos:\n",
    "    for j in i:\n",
    "        lista_style.append(j)\n",
    "\n",
    "\n",
    "lista_names = [r for r in lista_names if r !='']"
   ]
  },
  {
   "cell_type": "code",
   "execution_count": 168,
   "metadata": {},
   "outputs": [
    {
     "data": {
      "text/html": [
       "<div>\n",
       "<style scoped>\n",
       "    .dataframe tbody tr th:only-of-type {\n",
       "        vertical-align: middle;\n",
       "    }\n",
       "\n",
       "    .dataframe tbody tr th {\n",
       "        vertical-align: top;\n",
       "    }\n",
       "\n",
       "    .dataframe thead th {\n",
       "        text-align: right;\n",
       "    }\n",
       "</style>\n",
       "<table border=\"1\" class=\"dataframe\">\n",
       "  <thead>\n",
       "    <tr style=\"text-align: right;\">\n",
       "      <th></th>\n",
       "      <th>Nombres</th>\n",
       "      <th>Restaurante</th>\n",
       "      <th>Estilo/Precio</th>\n",
       "      <th>Estrellas Michelin</th>\n",
       "    </tr>\n",
       "  </thead>\n",
       "  <tbody>\n",
       "    <tr>\n",
       "      <th>0</th>\n",
       "      <td>Paco Roncero</td>\n",
       "      <td>Madrid, España</td>\n",
       "      <td>€€€€ · Creativa</td>\n",
       "      <td>2</td>\n",
       "    </tr>\n",
       "    <tr>\n",
       "      <th>1</th>\n",
       "      <td>CEBO</td>\n",
       "      <td>Madrid, España</td>\n",
       "      <td>€€€ · Creativa</td>\n",
       "      <td>0</td>\n",
       "    </tr>\n",
       "    <tr>\n",
       "      <th>2</th>\n",
       "      <td>Umiko</td>\n",
       "      <td>Madrid, España</td>\n",
       "      <td>€€€ · Japonesa</td>\n",
       "      <td>0</td>\n",
       "    </tr>\n",
       "    <tr>\n",
       "      <th>3</th>\n",
       "      <td>Casa Mortero</td>\n",
       "      <td>Madrid, España</td>\n",
       "      <td>€€ · Creativa</td>\n",
       "      <td>0</td>\n",
       "    </tr>\n",
       "    <tr>\n",
       "      <th>4</th>\n",
       "      <td>The Omar</td>\n",
       "      <td>Madrid, España</td>\n",
       "      <td>€€ · Tradicional</td>\n",
       "      <td>0</td>\n",
       "    </tr>\n",
       "  </tbody>\n",
       "</table>\n",
       "</div>"
      ],
      "text/plain": [
       "        Nombres     Restaurante     Estilo/Precio  Estrellas Michelin\n",
       "0  Paco Roncero  Madrid, España   €€€€ · Creativa                   2\n",
       "1          CEBO  Madrid, España    €€€ · Creativa                   0\n",
       "2         Umiko  Madrid, España    €€€ · Japonesa                   0\n",
       "3  Casa Mortero  Madrid, España     €€ · Creativa                   0\n",
       "4      The Omar  Madrid, España  €€ · Tradicional                   0"
      ]
     },
     "execution_count": 168,
     "metadata": {},
     "output_type": "execute_result"
    }
   ],
   "source": [
    "# Creamos el dataframe \n",
    "\n",
    "data = {'Nombres': lista_names,\n",
    "        'Restaurante': lista_location,\n",
    "        'Estilo/Precio': lista_style, \n",
    "        'Estrellas Michelin': estrellas}\n",
    "\n",
    "Restaurantes = pd.DataFrame(data)\n",
    "Restaurantes.head()"
   ]
  },
  {
   "cell_type": "code",
   "execution_count": 169,
   "metadata": {},
   "outputs": [],
   "source": [
    "# Hacemos un split de la columna Estilo/Precio para quedarnos con dos variables del estilo y del precio \n",
    "Restaurantes[['Precio', 'Estilo']] = Restaurantes['Estilo/Precio'].str.split('·', n=1, expand=True)\n",
    "Restaurantes = Restaurantes.drop(columns= 'Estilo/Precio')"
   ]
  },
  {
   "cell_type": "code",
   "execution_count": 170,
   "metadata": {},
   "outputs": [
    {
     "data": {
      "text/html": [
       "<div>\n",
       "<style scoped>\n",
       "    .dataframe tbody tr th:only-of-type {\n",
       "        vertical-align: middle;\n",
       "    }\n",
       "\n",
       "    .dataframe tbody tr th {\n",
       "        vertical-align: top;\n",
       "    }\n",
       "\n",
       "    .dataframe thead th {\n",
       "        text-align: right;\n",
       "    }\n",
       "</style>\n",
       "<table border=\"1\" class=\"dataframe\">\n",
       "  <thead>\n",
       "    <tr style=\"text-align: right;\">\n",
       "      <th></th>\n",
       "      <th>Nombres</th>\n",
       "      <th>Restaurante</th>\n",
       "      <th>Estrellas Michelin</th>\n",
       "      <th>Precio</th>\n",
       "      <th>Estilo</th>\n",
       "    </tr>\n",
       "  </thead>\n",
       "  <tbody>\n",
       "    <tr>\n",
       "      <th>0</th>\n",
       "      <td>Paco Roncero</td>\n",
       "      <td>Madrid, España</td>\n",
       "      <td>2</td>\n",
       "      <td>€€€€</td>\n",
       "      <td>Creativa</td>\n",
       "    </tr>\n",
       "    <tr>\n",
       "      <th>1</th>\n",
       "      <td>CEBO</td>\n",
       "      <td>Madrid, España</td>\n",
       "      <td>0</td>\n",
       "      <td>€€€</td>\n",
       "      <td>Creativa</td>\n",
       "    </tr>\n",
       "    <tr>\n",
       "      <th>2</th>\n",
       "      <td>Umiko</td>\n",
       "      <td>Madrid, España</td>\n",
       "      <td>0</td>\n",
       "      <td>€€€</td>\n",
       "      <td>Japonesa</td>\n",
       "    </tr>\n",
       "    <tr>\n",
       "      <th>3</th>\n",
       "      <td>Casa Mortero</td>\n",
       "      <td>Madrid, España</td>\n",
       "      <td>0</td>\n",
       "      <td>€€</td>\n",
       "      <td>Creativa</td>\n",
       "    </tr>\n",
       "    <tr>\n",
       "      <th>4</th>\n",
       "      <td>The Omar</td>\n",
       "      <td>Madrid, España</td>\n",
       "      <td>0</td>\n",
       "      <td>€€</td>\n",
       "      <td>Tradicional</td>\n",
       "    </tr>\n",
       "    <tr>\n",
       "      <th>...</th>\n",
       "      <td>...</td>\n",
       "      <td>...</td>\n",
       "      <td>...</td>\n",
       "      <td>...</td>\n",
       "      <td>...</td>\n",
       "    </tr>\n",
       "    <tr>\n",
       "      <th>149</th>\n",
       "      <td>99 sushi bar</td>\n",
       "      <td>Alcobendas, España</td>\n",
       "      <td>0</td>\n",
       "      <td>€€€</td>\n",
       "      <td>Japonesa</td>\n",
       "    </tr>\n",
       "    <tr>\n",
       "      <th>150</th>\n",
       "      <td>Casa de Pías</td>\n",
       "      <td>Getafe, España</td>\n",
       "      <td>0</td>\n",
       "      <td>€€</td>\n",
       "      <td>Moderna</td>\n",
       "    </tr>\n",
       "    <tr>\n",
       "      <th>151</th>\n",
       "      <td>La Rotonda</td>\n",
       "      <td>Rivas-Vaciamadrid, España</td>\n",
       "      <td>0</td>\n",
       "      <td>€€</td>\n",
       "      <td>Tradicional</td>\n",
       "    </tr>\n",
       "    <tr>\n",
       "      <th>152</th>\n",
       "      <td>El Viejo Fogón</td>\n",
       "      <td>Majadahonda, España</td>\n",
       "      <td>0</td>\n",
       "      <td>€€</td>\n",
       "      <td>Tradicional</td>\n",
       "    </tr>\n",
       "    <tr>\n",
       "      <th>153</th>\n",
       "      <td>El Quinto Sabor</td>\n",
       "      <td>Villaviciosa de Odón, España</td>\n",
       "      <td>0</td>\n",
       "      <td>€€</td>\n",
       "      <td>Creativa</td>\n",
       "    </tr>\n",
       "  </tbody>\n",
       "</table>\n",
       "<p>154 rows × 5 columns</p>\n",
       "</div>"
      ],
      "text/plain": [
       "             Nombres                   Restaurante  Estrellas Michelin Precio  \\\n",
       "0       Paco Roncero                Madrid, España                   2  €€€€    \n",
       "1               CEBO                Madrid, España                   0   €€€    \n",
       "2              Umiko                Madrid, España                   0   €€€    \n",
       "3       Casa Mortero                Madrid, España                   0    €€    \n",
       "4           The Omar                Madrid, España                   0    €€    \n",
       "..               ...                           ...                 ...    ...   \n",
       "149     99 sushi bar            Alcobendas, España                   0   €€€    \n",
       "150     Casa de Pías                Getafe, España                   0    €€    \n",
       "151       La Rotonda     Rivas-Vaciamadrid, España                   0    €€    \n",
       "152   El Viejo Fogón           Majadahonda, España                   0    €€    \n",
       "153  El Quinto Sabor  Villaviciosa de Odón, España                   0    €€    \n",
       "\n",
       "           Estilo  \n",
       "0        Creativa  \n",
       "1        Creativa  \n",
       "2        Japonesa  \n",
       "3        Creativa  \n",
       "4     Tradicional  \n",
       "..            ...  \n",
       "149      Japonesa  \n",
       "150       Moderna  \n",
       "151   Tradicional  \n",
       "152   Tradicional  \n",
       "153      Creativa  \n",
       "\n",
       "[154 rows x 5 columns]"
      ]
     },
     "execution_count": 170,
     "metadata": {},
     "output_type": "execute_result"
    }
   ],
   "source": [
    "Restaurantes"
   ]
  },
  {
   "attachments": {},
   "cell_type": "markdown",
   "metadata": {},
   "source": [
    "## Creación del Recomendador \n",
    "\n",
    "- Primero crearemos unos datos artificiales para entrenar el modelo \n",
    "- Haremos un modelo de recomendación basado en la opinion previa de usuarios\n",
    "- Después lo entrenaremos \n",
    "- Finalemnte tendremos el producto final "
   ]
  },
  {
   "attachments": {},
   "cell_type": "markdown",
   "metadata": {},
   "source": [
    "### Matrix\n"
   ]
  },
  {
   "cell_type": "code",
   "execution_count": 225,
   "metadata": {},
   "outputs": [],
   "source": [
    "# Creamos aleatorias para hacer los datos artificiales donde se entrenara el modelo \n",
    "\n",
    "nombres = ['Usuario1', 'Usuario2', 'Usuario3', 'Usuario4']\n",
    "personas = []\n",
    "resta = []\n",
    "numeros = [1,2,3,4,5]\n",
    "valoracion = []\n",
    "ocasion =  ['Cumpleaños', 'Casual', 'Aniversario', 'Cita romántica']\n",
    "oc = []\n",
    "sitios= []\n",
    "\n",
    "for i in range(700):\n",
    "    personas.append(random.randint(2,6))\n",
    "\n",
    "for item in lista_names:\n",
    "    resta.append(item)\n",
    "while len(resta) < 700:\n",
    "    resta.append(random.choice(lista_names))\n",
    "\n",
    "for i in range(700):\n",
    "    valoracion.append(random.choice(numeros))\n",
    "\n",
    "for i in range(700):\n",
    "    oc.append(random.choice(ocasion))\n",
    "\n",
    "for i  in range(700):\n",
    "     sitios.append(random.choice(nombres))"
   ]
  },
  {
   "cell_type": "code",
   "execution_count": 226,
   "metadata": {},
   "outputs": [
    {
     "data": {
      "text/html": [
       "<div>\n",
       "<style scoped>\n",
       "    .dataframe tbody tr th:only-of-type {\n",
       "        vertical-align: middle;\n",
       "    }\n",
       "\n",
       "    .dataframe tbody tr th {\n",
       "        vertical-align: top;\n",
       "    }\n",
       "\n",
       "    .dataframe thead th {\n",
       "        text-align: right;\n",
       "    }\n",
       "</style>\n",
       "<table border=\"1\" class=\"dataframe\">\n",
       "  <thead>\n",
       "    <tr style=\"text-align: right;\">\n",
       "      <th></th>\n",
       "      <th>Usuario</th>\n",
       "      <th>Personas</th>\n",
       "      <th>Restaurante</th>\n",
       "      <th>Valoración</th>\n",
       "      <th>Ocasion</th>\n",
       "    </tr>\n",
       "  </thead>\n",
       "  <tbody>\n",
       "    <tr>\n",
       "      <th>0</th>\n",
       "      <td>Usuario3</td>\n",
       "      <td>5</td>\n",
       "      <td>Paco Roncero</td>\n",
       "      <td>1</td>\n",
       "      <td>Casual</td>\n",
       "    </tr>\n",
       "    <tr>\n",
       "      <th>1</th>\n",
       "      <td>Usuario1</td>\n",
       "      <td>2</td>\n",
       "      <td>CEBO</td>\n",
       "      <td>1</td>\n",
       "      <td>Casual</td>\n",
       "    </tr>\n",
       "    <tr>\n",
       "      <th>2</th>\n",
       "      <td>Usuario3</td>\n",
       "      <td>6</td>\n",
       "      <td>Umiko</td>\n",
       "      <td>4</td>\n",
       "      <td>Cumpleaños</td>\n",
       "    </tr>\n",
       "    <tr>\n",
       "      <th>3</th>\n",
       "      <td>Usuario2</td>\n",
       "      <td>2</td>\n",
       "      <td>Casa Mortero</td>\n",
       "      <td>3</td>\n",
       "      <td>Aniversario</td>\n",
       "    </tr>\n",
       "    <tr>\n",
       "      <th>4</th>\n",
       "      <td>Usuario4</td>\n",
       "      <td>5</td>\n",
       "      <td>The Omar</td>\n",
       "      <td>1</td>\n",
       "      <td>Cita romántica</td>\n",
       "    </tr>\n",
       "    <tr>\n",
       "      <th>...</th>\n",
       "      <td>...</td>\n",
       "      <td>...</td>\n",
       "      <td>...</td>\n",
       "      <td>...</td>\n",
       "      <td>...</td>\n",
       "    </tr>\n",
       "    <tr>\n",
       "      <th>695</th>\n",
       "      <td>Usuario2</td>\n",
       "      <td>2</td>\n",
       "      <td>Bichopalo</td>\n",
       "      <td>3</td>\n",
       "      <td>Cita romántica</td>\n",
       "    </tr>\n",
       "    <tr>\n",
       "      <th>696</th>\n",
       "      <td>Usuario3</td>\n",
       "      <td>5</td>\n",
       "      <td>Shinatora Ya</td>\n",
       "      <td>5</td>\n",
       "      <td>Cita romántica</td>\n",
       "    </tr>\n",
       "    <tr>\n",
       "      <th>697</th>\n",
       "      <td>Usuario3</td>\n",
       "      <td>4</td>\n",
       "      <td>Rubaiyat Madrid</td>\n",
       "      <td>3</td>\n",
       "      <td>Cumpleaños</td>\n",
       "    </tr>\n",
       "    <tr>\n",
       "      <th>698</th>\n",
       "      <td>Usuario1</td>\n",
       "      <td>2</td>\n",
       "      <td>Shinatora Ya</td>\n",
       "      <td>1</td>\n",
       "      <td>Cita romántica</td>\n",
       "    </tr>\n",
       "    <tr>\n",
       "      <th>699</th>\n",
       "      <td>Usuario4</td>\n",
       "      <td>3</td>\n",
       "      <td>Asiakō</td>\n",
       "      <td>1</td>\n",
       "      <td>Aniversario</td>\n",
       "    </tr>\n",
       "  </tbody>\n",
       "</table>\n",
       "<p>700 rows × 5 columns</p>\n",
       "</div>"
      ],
      "text/plain": [
       "      Usuario  Personas      Restaurante  Valoración         Ocasion\n",
       "0    Usuario3         5     Paco Roncero           1          Casual\n",
       "1    Usuario1         2             CEBO           1          Casual\n",
       "2    Usuario3         6            Umiko           4      Cumpleaños\n",
       "3    Usuario2         2     Casa Mortero           3     Aniversario\n",
       "4    Usuario4         5         The Omar           1  Cita romántica\n",
       "..        ...       ...              ...         ...             ...\n",
       "695  Usuario2         2        Bichopalo           3  Cita romántica\n",
       "696  Usuario3         5     Shinatora Ya           5  Cita romántica\n",
       "697  Usuario3         4  Rubaiyat Madrid           3      Cumpleaños\n",
       "698  Usuario1         2     Shinatora Ya           1  Cita romántica\n",
       "699  Usuario4         3           Asiakō           1     Aniversario\n",
       "\n",
       "[700 rows x 5 columns]"
      ]
     },
     "execution_count": 226,
     "metadata": {},
     "output_type": "execute_result"
    }
   ],
   "source": [
    "# Unismo todos los datos para crear el DataFrame\n",
    "\n",
    "fake_data = {'Usuario': sitios,\n",
    "        'Personas': personas,\n",
    "        'Restaurante': resta,\n",
    "        'Valoración': valoracion,\n",
    "        'Ocasion': oc}\n",
    "fake_data = pd.DataFrame(fake_data)\n",
    "fake_data"
   ]
  },
  {
   "cell_type": "code",
   "execution_count": 227,
   "metadata": {},
   "outputs": [
    {
     "data": {
      "image/png": "[encoded data removed]",
      "text/plain": [
       "<Figure size 2000x500 with 1 Axes>"
      ]
     },
     "metadata": {},
     "output_type": "display_data"
    }
   ],
   "source": [
    "# Hacemos un histograma para ver los ratings generados \n",
    "\n",
    "plt.hist(fake_data.Valoración, bins=5)\n",
    "plt.title('Distribución de las valoraciones')\n",
    "plt.show()"
   ]
  },
  {
   "cell_type": "code",
   "execution_count": 228,
   "metadata": {},
   "outputs": [
    {
     "data": {
      "text/html": [
       "<div>\n",
       "<style scoped>\n",
       "    .dataframe tbody tr th:only-of-type {\n",
       "        vertical-align: middle;\n",
       "    }\n",
       "\n",
       "    .dataframe tbody tr th {\n",
       "        vertical-align: top;\n",
       "    }\n",
       "\n",
       "    .dataframe thead th {\n",
       "        text-align: right;\n",
       "    }\n",
       "</style>\n",
       "<table border=\"1\" class=\"dataframe\">\n",
       "  <thead>\n",
       "    <tr style=\"text-align: right;\">\n",
       "      <th>Restaurante</th>\n",
       "      <th>99 sushi bar</th>\n",
       "      <th>A'Barra</th>\n",
       "      <th>A'Kangas by Urrechu</th>\n",
       "      <th>A'Nómalo</th>\n",
       "      <th>Alabaster</th>\n",
       "      <th>Alcotán</th>\n",
       "      <th>Amparito Roca</th>\n",
       "      <th>Amós</th>\n",
       "      <th>Arallo Taberna</th>\n",
       "      <th>Arce</th>\n",
       "      <th>...</th>\n",
       "      <th>Urrechu</th>\n",
       "      <th>Vinoteca Moratín</th>\n",
       "      <th>Xeito! 19' 20''</th>\n",
       "      <th>Yugo</th>\n",
       "      <th>Zalacaín</th>\n",
       "      <th>Zuara Sushi</th>\n",
       "      <th>Zurito</th>\n",
       "      <th>enklima</th>\n",
       "      <th>Ático</th>\n",
       "      <th>Èter</th>\n",
       "    </tr>\n",
       "    <tr>\n",
       "      <th>Usuario</th>\n",
       "      <th></th>\n",
       "      <th></th>\n",
       "      <th></th>\n",
       "      <th></th>\n",
       "      <th></th>\n",
       "      <th></th>\n",
       "      <th></th>\n",
       "      <th></th>\n",
       "      <th></th>\n",
       "      <th></th>\n",
       "      <th></th>\n",
       "      <th></th>\n",
       "      <th></th>\n",
       "      <th></th>\n",
       "      <th></th>\n",
       "      <th></th>\n",
       "      <th></th>\n",
       "      <th></th>\n",
       "      <th></th>\n",
       "      <th></th>\n",
       "      <th></th>\n",
       "    </tr>\n",
       "  </thead>\n",
       "  <tbody>\n",
       "    <tr>\n",
       "      <th>Usuario1</th>\n",
       "      <td>5.0</td>\n",
       "      <td>3.00</td>\n",
       "      <td>3.666667</td>\n",
       "      <td>0.0</td>\n",
       "      <td>2.000000</td>\n",
       "      <td>3.0</td>\n",
       "      <td>4.0</td>\n",
       "      <td>1.00</td>\n",
       "      <td>1.0</td>\n",
       "      <td>1.0</td>\n",
       "      <td>...</td>\n",
       "      <td>0.0</td>\n",
       "      <td>5.0</td>\n",
       "      <td>5.0</td>\n",
       "      <td>0.000000</td>\n",
       "      <td>5.0</td>\n",
       "      <td>2.0</td>\n",
       "      <td>4.333333</td>\n",
       "      <td>3.0</td>\n",
       "      <td>2.0</td>\n",
       "      <td>4.0</td>\n",
       "    </tr>\n",
       "    <tr>\n",
       "      <th>Usuario2</th>\n",
       "      <td>2.0</td>\n",
       "      <td>0.00</td>\n",
       "      <td>4.000000</td>\n",
       "      <td>4.0</td>\n",
       "      <td>2.333333</td>\n",
       "      <td>0.0</td>\n",
       "      <td>0.0</td>\n",
       "      <td>1.00</td>\n",
       "      <td>2.0</td>\n",
       "      <td>0.0</td>\n",
       "      <td>...</td>\n",
       "      <td>4.0</td>\n",
       "      <td>0.0</td>\n",
       "      <td>1.0</td>\n",
       "      <td>4.000000</td>\n",
       "      <td>0.0</td>\n",
       "      <td>3.0</td>\n",
       "      <td>1.000000</td>\n",
       "      <td>2.5</td>\n",
       "      <td>2.0</td>\n",
       "      <td>1.0</td>\n",
       "    </tr>\n",
       "    <tr>\n",
       "      <th>Usuario3</th>\n",
       "      <td>3.0</td>\n",
       "      <td>2.00</td>\n",
       "      <td>0.000000</td>\n",
       "      <td>3.5</td>\n",
       "      <td>0.000000</td>\n",
       "      <td>4.0</td>\n",
       "      <td>1.0</td>\n",
       "      <td>4.00</td>\n",
       "      <td>2.0</td>\n",
       "      <td>2.5</td>\n",
       "      <td>...</td>\n",
       "      <td>0.0</td>\n",
       "      <td>3.0</td>\n",
       "      <td>5.0</td>\n",
       "      <td>0.000000</td>\n",
       "      <td>0.0</td>\n",
       "      <td>2.0</td>\n",
       "      <td>3.000000</td>\n",
       "      <td>5.0</td>\n",
       "      <td>0.0</td>\n",
       "      <td>5.0</td>\n",
       "    </tr>\n",
       "    <tr>\n",
       "      <th>Usuario4</th>\n",
       "      <td>2.5</td>\n",
       "      <td>3.25</td>\n",
       "      <td>2.250000</td>\n",
       "      <td>4.5</td>\n",
       "      <td>0.000000</td>\n",
       "      <td>4.0</td>\n",
       "      <td>4.0</td>\n",
       "      <td>2.75</td>\n",
       "      <td>5.0</td>\n",
       "      <td>5.0</td>\n",
       "      <td>...</td>\n",
       "      <td>4.5</td>\n",
       "      <td>2.0</td>\n",
       "      <td>3.0</td>\n",
       "      <td>2.666667</td>\n",
       "      <td>0.0</td>\n",
       "      <td>5.0</td>\n",
       "      <td>0.000000</td>\n",
       "      <td>1.0</td>\n",
       "      <td>4.0</td>\n",
       "      <td>0.0</td>\n",
       "    </tr>\n",
       "  </tbody>\n",
       "</table>\n",
       "<p>4 rows × 153 columns</p>\n",
       "</div>"
      ],
      "text/plain": [
       "Restaurante  99 sushi bar  A'Barra  A'Kangas by Urrechu  A'Nómalo  Alabaster  \\\n",
       "Usuario                                                                        \n",
       "Usuario1              5.0     3.00             3.666667       0.0   2.000000   \n",
       "Usuario2              2.0     0.00             4.000000       4.0   2.333333   \n",
       "Usuario3              3.0     2.00             0.000000       3.5   0.000000   \n",
       "Usuario4              2.5     3.25             2.250000       4.5   0.000000   \n",
       "\n",
       "Restaurante  Alcotán  Amparito Roca  Amós  Arallo Taberna  Arce  ...  Urrechu  \\\n",
       "Usuario                                                          ...            \n",
       "Usuario1         3.0            4.0  1.00             1.0   1.0  ...      0.0   \n",
       "Usuario2         0.0            0.0  1.00             2.0   0.0  ...      4.0   \n",
       "Usuario3         4.0            1.0  4.00             2.0   2.5  ...      0.0   \n",
       "Usuario4         4.0            4.0  2.75             5.0   5.0  ...      4.5   \n",
       "\n",
       "Restaurante  Vinoteca Moratín  Xeito! 19' 20''      Yugo  Zalacaín  \\\n",
       "Usuario                                                              \n",
       "Usuario1                  5.0              5.0  0.000000       5.0   \n",
       "Usuario2                  0.0              1.0  4.000000       0.0   \n",
       "Usuario3                  3.0              5.0  0.000000       0.0   \n",
       "Usuario4                  2.0              3.0  2.666667       0.0   \n",
       "\n",
       "Restaurante  Zuara Sushi    Zurito  enklima  Ático  Èter  \n",
       "Usuario                                                   \n",
       "Usuario1             2.0  4.333333      3.0    2.0   4.0  \n",
       "Usuario2             3.0  1.000000      2.5    2.0   1.0  \n",
       "Usuario3             2.0  3.000000      5.0    0.0   5.0  \n",
       "Usuario4             5.0  0.000000      1.0    4.0   0.0  \n",
       "\n",
       "[4 rows x 153 columns]"
      ]
     },
     "execution_count": 228,
     "metadata": {},
     "output_type": "execute_result"
    }
   ],
   "source": [
    "# Creamos matriz donde cruzamos los Usuarios con los Restaurantes \n",
    "\n",
    "matriz = pd.pivot_table(fake_data, values='Valoración', index='Usuario', columns= 'Restaurante' ).fillna(0)\n",
    "matriz"
   ]
  },
  {
   "cell_type": "code",
   "execution_count": 229,
   "metadata": {},
   "outputs": [
    {
     "name": "stdout",
     "output_type": "stream",
     "text": [
      "Sparsity: 68.63%\n"
     ]
    }
   ],
   "source": [
    "# Con esta fórmula vemos cuanto valores en 0 hay en el dataset \n",
    "ratings = matriz.values\n",
    "sparsity = float(len(ratings.nonzero()[0]))\n",
    "sparsity /= (ratings.shape[0] * ratings.shape[1])\n",
    "sparsity *= 100\n",
    "print('Sparsity: {:4.2f}%'.format(sparsity))"
   ]
  },
  {
   "cell_type": "code",
   "execution_count": 230,
   "metadata": {},
   "outputs": [
    {
     "name": "stdout",
     "output_type": "stream",
     "text": [
      "(3, 153)\n",
      "(1, 153)\n"
     ]
    }
   ],
   "source": [
    "# Dividimos en train/test \n",
    "\n",
    "ratings_train, ratings_test = train_test_split(ratings, test_size=0.25, random_state=42)\n",
    "print(ratings_train.shape)\n",
    "print(ratings_test.shape)"
   ]
  },
  {
   "cell_type": "code",
   "execution_count": 231,
   "metadata": {},
   "outputs": [
    {
     "name": "stdout",
     "output_type": "stream",
     "text": [
      "(4, 4)\n"
     ]
    }
   ],
   "source": [
    "# Hacemos una matriz de similitud por las distancias de coseno \n",
    "\n",
    "sim_matrix = 1- sklearn.metrics.pairwise.cosine_distances(ratings)\n",
    "print(sim_matrix.shape)"
   ]
  },
  {
   "cell_type": "code",
   "execution_count": 232,
   "metadata": {},
   "outputs": [
    {
     "data": {
      "image/png": "[encoded data removed]",
      "text/plain": [
       "<Figure size 2000x500 with 2 Axes>"
      ]
     },
     "metadata": {},
     "output_type": "display_data"
    }
   ],
   "source": [
    "# Hacemos un plot de la matriz de similitud \n",
    "\n",
    "plt.imshow(sim_matrix)\n",
    "plt.colorbar()\n",
    "plt.title('Matriz de Similitud de Usuarios')\n",
    "plt.show()"
   ]
  },
  {
   "cell_type": "code",
   "execution_count": 233,
   "metadata": {},
   "outputs": [],
   "source": [
    "# Separamos \n",
    "\n",
    "sim_matrix_train = sim_matrix[0:3, 0:3]\n",
    "sim_matrix_test = sim_matrix[3:,3: ]\n",
    "users_predictions = sim_matrix_train.dot(ratings_train) / np.array([np.abs(sim_matrix_train).sum(axis=1)]).T\n"
   ]
  },
  {
   "cell_type": "code",
   "execution_count": 234,
   "metadata": {},
   "outputs": [
    {
     "data": {
      "image/png": "[encoded data removed]",
      "text/plain": [
       "<Figure size 2000x500 with 2 Axes>"
      ]
     },
     "metadata": {},
     "output_type": "display_data"
    }
   ],
   "source": [
    "plt.rcParams['figure.figsize'] = (20.0, 5.0)\n",
    "plt.imshow(users_predictions);\n",
    "plt.colorbar()\n",
    "plt.show()"
   ]
  }
 ],
 "metadata": {
  "kernelspec": {
   "display_name": "Python 3.7.4 64-bit",
   "language": "python",
   "name": "python3"
  },
  "language_info": {
   "codemirror_mode": {
    "name": "ipython",
    "version": 3
   },
   "file_extension": ".py",
   "mimetype": "text/x-python",
   "name": "python",
   "nbconvert_exporter": "python",
   "pygments_lexer": "ipython3",
   "version": "3.7.4"
  },
  "orig_nbformat": 4,
  "vscode": {
   "interpreter": {
    "hash": "bf578ae2f05cd0bf79fc58c6d9676327b42cc704d3c90195b19dcfd7d863a264"
   }
  }
 },
 "nbformat": 4,
 "nbformat_minor": 2
}
