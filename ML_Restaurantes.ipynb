{
 "cells": [
  {
   "attachments": {},
   "cell_type": "markdown",
   "metadata": {},
   "source": [
    "# Nuevo Proyecto Machine Learning \n",
    "\n",
    "- Este proyecto será un recomendador donde la persona deberá de poner ciertos features para recomendar un restaurante dentro de los que están en la guía Michelin. \n",
    "\n",
    "\n",
    "\n"
   ]
  },
  {
   "cell_type": "code",
   "execution_count": 5,
   "metadata": {},
   "outputs": [],
   "source": [
    "#Para la manipulación de datos\n",
    "import pandas as pd\n",
    "import time\n",
    "import numpy as np\n",
    "\n",
    "#Servicio y driver de Chrome de Selenium\n",
    "from selenium import webdriver\n",
    "from selenium.webdriver.chrome.service import Service\n",
    "from webdriver_manager.chrome import ChromeDriverManager\n",
    "\n",
    "#Las opciones que vamos a tener para buscar elementos\n",
    "from selenium.webdriver.common.by import By\n",
    "\n",
    "#Para cuando queramos mandar pulsaciones de teclado\n",
    "from selenium.webdriver.common.keys import Keys\n",
    "\n"
   ]
  },
  {
   "cell_type": "code",
   "execution_count": 6,
   "metadata": {},
   "outputs": [],
   "source": [
    "# Creamos la conexión con la página web\n",
    "service = Service(ChromeDriverManager().install())\n",
    "driver = webdriver.Chrome(service=service)\n",
    "time.sleep(2)"
   ]
  },
  {
   "cell_type": "code",
   "execution_count": 7,
   "metadata": {},
   "outputs": [],
   "source": [
    "# Ponemos la página web \n",
    "url = 'https://guide.michelin.com/es/es'\n",
    "driver.get(url)\n"
   ]
  },
  {
   "cell_type": "code",
   "execution_count": 8,
   "metadata": {},
   "outputs": [
    {
     "name": "stdout",
     "output_type": "stream",
     "text": [
      "Aceptar y cerrar\n"
     ]
    }
   ],
   "source": [
    "# Encontrar las cookies\n",
    "elements_by_ID = driver.find_element(By.ID, 'didomi-notice-agree-button')\n",
    "print(elements_by_ID.text)\n"
   ]
  },
  {
   "cell_type": "code",
   "execution_count": 9,
   "metadata": {},
   "outputs": [],
   "source": [
    "# Aceptamos las cookies \n",
    "acepto = driver.find_element(By.ID, 'didomi-notice-agree-button')\n",
    "acepto.click()"
   ]
  },
  {
   "cell_type": "code",
   "execution_count": 10,
   "metadata": {},
   "outputs": [],
   "source": [
    "# Seleccionamos la barra y escribimos Madrid \n",
    "# Por ralguna razon el codigo solo me va cuando esta abierta la ventana del chrome a mitad \n",
    "# Hay algo en el codigo de la página que hace que el ID pase de ser 'autocomplete-0-input' a 'autocomplete-1-input'\n",
    "\n",
    "text = driver.find_element(By.ID, 'autocomplete-0-input')\n",
    "\n",
    "text.click()\n",
    "time.sleep(2)\n",
    "text.send_keys('Madrid')\n",
    "time.sleep(2)\n",
    "text.send_keys(Keys.ENTER)"
   ]
  },
  {
   "cell_type": "code",
   "execution_count": 11,
   "metadata": {},
   "outputs": [
    {
     "name": "stdout",
     "output_type": "stream",
     "text": [
      "Paco Roncero\n"
     ]
    }
   ],
   "source": [
    "# Sacamos el nombre del restaurante \n",
    "\n",
    "titulo = driver.find_element(By.CSS_SELECTOR, 'h3')\n",
    "print(titulo.text)"
   ]
  },
  {
   "cell_type": "code",
   "execution_count": 12,
   "metadata": {},
   "outputs": [
    {
     "name": "stdout",
     "output_type": "stream",
     "text": [
      "Madrid, España\n"
     ]
    }
   ],
   "source": [
    "# Sacamos la ubicacion del restaurante \n",
    "\n",
    "ubi = driver.find_element(By.XPATH, '/html/body/main/section[1]/div/div/div[2]/div[14]/div/div[2]/div[2]')\n",
    "print(ubi.text)"
   ]
  },
  {
   "cell_type": "code",
   "execution_count": 13,
   "metadata": {},
   "outputs": [
    {
     "name": "stdout",
     "output_type": "stream",
     "text": [
      "€€€€ · Creativa\n"
     ]
    }
   ],
   "source": [
    "# Sacamos los euroes y el estilo del restaurante \n",
    "\n",
    "ubi = driver.find_element(By.XPATH, '/html/body/main/section[1]/div/div/div[2]/div[1]/div/div[2]/div[3]')\n",
    "print(ubi.text)"
   ]
  },
  {
   "cell_type": "code",
   "execution_count": 14,
   "metadata": {},
   "outputs": [],
   "source": [
    "# Cogemos todos los links que hay en la página\n",
    "# Hacemos una lista que tenga todos los URLS disponibles de la página para quedarnos con ellos \n",
    "\n",
    "urls = []\n",
    "for i in range(1,9,1):\n",
    "    link = f'https://guide.michelin.com/es/es/comunidad-de-madrid/madrid/restaurantes/page/{i}'\n",
    "    urls.append(link)"
   ]
  },
  {
   "cell_type": "code",
   "execution_count": 44,
   "metadata": {},
   "outputs": [
    {
     "name": "stdout",
     "output_type": "stream",
     "text": [
      "https://guide.michelin.com/es/es/comunidad-de-madrid/madrid/restaurantes/page/1\n",
      "https://guide.michelin.com/es/es/comunidad-de-madrid/madrid/restaurantes/page/2\n",
      "https://guide.michelin.com/es/es/comunidad-de-madrid/madrid/restaurantes/page/3\n",
      "https://guide.michelin.com/es/es/comunidad-de-madrid/madrid/restaurantes/page/4\n",
      "https://guide.michelin.com/es/es/comunidad-de-madrid/madrid/restaurantes/page/5\n",
      "https://guide.michelin.com/es/es/comunidad-de-madrid/madrid/restaurantes/page/6\n",
      "https://guide.michelin.com/es/es/comunidad-de-madrid/madrid/restaurantes/page/7\n",
      "https://guide.michelin.com/es/es/comunidad-de-madrid/madrid/restaurantes/page/8\n"
     ]
    }
   ],
   "source": [
    "# Hacemos el bucle para sacar los 154 datos\n",
    "\n",
    "\n",
    "lista_nombres = []\n",
    "lista_ubis = []\n",
    "lista_estilos = []\n",
    "\n",
    "for url in urls[:]:\n",
    "    # Ponemos el servidor donde queremos navegar \n",
    "\n",
    "    service = Service(ChromeDriverManager().install())\n",
    "    driver = webdriver.Chrome(service=service)\n",
    "    time.sleep(2)\n",
    "    driver.get(url)\n",
    "    time.sleep(2)\n",
    "\n",
    "    # Le damos click al boton de cookies \n",
    "    acepto = driver.find_element(By.ID, 'didomi-notice-agree-button')\n",
    "    acepto.click()\n",
    "\n",
    "    # Empezamos a crear los dataframes\n",
    "    nombre = driver.find_elements(By.CSS_SELECTOR, 'h3')\n",
    "    nombres = []\n",
    "    for titol in nombre:\n",
    "        nombres.append(titol.text)\n",
    "\n",
    "    if url != 'https://guide.michelin.com/es/es/comunidad-de-madrid/madrid/restaurantes/page/8':\n",
    "        for i in range(1,21,1):\n",
    "            ubi = driver.find_element(By.XPATH, value = f'/html/body/main/section[1]/div/div/div[2]/div{[i]}/div/div[2]/div[2]')\n",
    "            ubicacion = []\n",
    "            a = ubi.text\n",
    "            ubicacion.append(a)\n",
    "            lista_ubis.append(ubicacion)\n",
    "    else: \n",
    "        for i in range(1,15,1):\n",
    "            ubi = driver.find_element(By.XPATH, value = f'/html/body/main/section[1]/div/div/div[2]/div{[i]}/div/div[2]/div[2]')\n",
    "            ubicacion = []\n",
    "            a = ubi.text\n",
    "            ubicacion.append(a)\n",
    "            lista_ubis.append(ubicacion)\n",
    "\n",
    "\n",
    "    if url != 'https://guide.michelin.com/es/es/comunidad-de-madrid/madrid/restaurantes/page/8':\n",
    "        for i in range(1,21,1):\n",
    "            estilo = driver.find_element(By.XPATH, value = f'/html/body/main/section[1]/div/div/div[2]/div{[i]}/div/div[2]/div[3]')\n",
    "            style = []\n",
    "            b = estilo.text\n",
    "            style.append(b)\n",
    "            lista_estilos.append(style)\n",
    "    else: \n",
    "        for i in range(1,15,1):\n",
    "            estilo = driver.find_element(By.XPATH, value = f'/html/body/main/section[1]/div/div/div[2]/div{[i]}/div/div[2]/div[3]')\n",
    "            style = []\n",
    "            b = estilo.text\n",
    "            style.append(b)\n",
    "            lista_estilos.append(style)\n",
    "\n",
    "    lista_nombres.append(nombres)\n",
    "    print(url)\n",
    "    time.sleep(1)\n"
   ]
  },
  {
   "cell_type": "code",
   "execution_count": 57,
   "metadata": {},
   "outputs": [],
   "source": [
    "# Creamos un dataframe a mano de los restaurantes que tienen estrella \n",
    "\n",
    "estrellas = [2,0,0,0,0,0,1,0,0,0,0,0,0,0,0,0,0,0,0,2,0,0,0,0,0,1,0,0,0,0,0,2,0,0,0,0,0,0,0,0,\n",
    "                           0,0,1,0,0,0,0,0,0,0,1,0,1,0,0,0,0,0,0,0,0,0,0,0,0,3,0,0,2,0,0,0,0,1,0,0,0,0,0,0,\n",
    "                           0,0,0,0,0,0,0,0,0,0,0,1,0,0,0,0,0,0,0,0,2,0,0,0,0,1,0,0,0,0,0,0,0,0,0,0,0,0,1,1,\n",
    "                           1,0,0,1,0,0,0,0,0,1,0,3,0,0,0,0,1,0,0,0,0,0,0,0,0,0,0,0,0,0,0,0,0,0]"
   ]
  },
  {
   "cell_type": "code",
   "execution_count": 52,
   "metadata": {},
   "outputs": [],
   "source": [
    "# Hacemos que las listas sean de una sola dimension\n",
    "\n",
    "lista_names = []\n",
    "lista_location = []\n",
    "lista_style = []\n",
    "\n",
    "for i in lista_nombres:\n",
    "    for j in i:\n",
    "        lista_names.append(j)\n",
    "\n",
    "for i in lista_ubis:\n",
    "    for j in i:\n",
    "        lista_location.append(j)\n",
    "\n",
    "for i in lista_estilos:\n",
    "    for j in i:\n",
    "        lista_style.append(j)\n",
    "\n",
    "\n",
    "lista_names = [r for r in lista_names if r !='']"
   ]
  },
  {
   "cell_type": "code",
   "execution_count": 58,
   "metadata": {},
   "outputs": [
    {
     "data": {
      "text/html": [
       "<div>\n",
       "<style scoped>\n",
       "    .dataframe tbody tr th:only-of-type {\n",
       "        vertical-align: middle;\n",
       "    }\n",
       "\n",
       "    .dataframe tbody tr th {\n",
       "        vertical-align: top;\n",
       "    }\n",
       "\n",
       "    .dataframe thead th {\n",
       "        text-align: right;\n",
       "    }\n",
       "</style>\n",
       "<table border=\"1\" class=\"dataframe\">\n",
       "  <thead>\n",
       "    <tr style=\"text-align: right;\">\n",
       "      <th></th>\n",
       "      <th>Nombres</th>\n",
       "      <th>Ubicación</th>\n",
       "      <th>Estilo/Precio</th>\n",
       "      <th>Estrellas Michelin</th>\n",
       "    </tr>\n",
       "  </thead>\n",
       "  <tbody>\n",
       "    <tr>\n",
       "      <th>0</th>\n",
       "      <td>Paco Roncero</td>\n",
       "      <td>Madrid, España</td>\n",
       "      <td>€€€€ · Creativa</td>\n",
       "      <td>2</td>\n",
       "    </tr>\n",
       "    <tr>\n",
       "      <th>1</th>\n",
       "      <td>CEBO</td>\n",
       "      <td>Madrid, España</td>\n",
       "      <td>€€€ · Creativa</td>\n",
       "      <td>0</td>\n",
       "    </tr>\n",
       "    <tr>\n",
       "      <th>2</th>\n",
       "      <td>Umiko</td>\n",
       "      <td>Madrid, España</td>\n",
       "      <td>€€€ · Japonesa</td>\n",
       "      <td>0</td>\n",
       "    </tr>\n",
       "    <tr>\n",
       "      <th>3</th>\n",
       "      <td>Casa Mortero</td>\n",
       "      <td>Madrid, España</td>\n",
       "      <td>€€ · Creativa</td>\n",
       "      <td>0</td>\n",
       "    </tr>\n",
       "    <tr>\n",
       "      <th>4</th>\n",
       "      <td>The Omar</td>\n",
       "      <td>Madrid, España</td>\n",
       "      <td>€€ · Tradicional</td>\n",
       "      <td>0</td>\n",
       "    </tr>\n",
       "  </tbody>\n",
       "</table>\n",
       "</div>"
      ],
      "text/plain": [
       "        Nombres       Ubicación     Estilo/Precio  Estrellas Michelin\n",
       "0  Paco Roncero  Madrid, España   €€€€ · Creativa                   2\n",
       "1          CEBO  Madrid, España    €€€ · Creativa                   0\n",
       "2         Umiko  Madrid, España    €€€ · Japonesa                   0\n",
       "3  Casa Mortero  Madrid, España     €€ · Creativa                   0\n",
       "4      The Omar  Madrid, España  €€ · Tradicional                   0"
      ]
     },
     "execution_count": 58,
     "metadata": {},
     "output_type": "execute_result"
    }
   ],
   "source": [
    "# Creamos el dataframe \n",
    "\n",
    "data = {'Nombres': lista_names,\n",
    "        'Ubicación': lista_location,\n",
    "        'Estilo/Precio': lista_style, \n",
    "        'Estrellas Michelin': estrellas}\n",
    "\n",
    "Restaurantes = pd.DataFrame(data)\n",
    "Restaurantes.head()"
   ]
  },
  {
   "attachments": {},
   "cell_type": "markdown",
   "metadata": {},
   "source": [
    "## Creación del Recomendador "
   ]
  }
 ],
 "metadata": {
  "kernelspec": {
   "display_name": "Python 3.7.4 64-bit",
   "language": "python",
   "name": "python3"
  },
  "language_info": {
   "codemirror_mode": {
    "name": "ipython",
    "version": 3
   },
   "file_extension": ".py",
   "mimetype": "text/x-python",
   "name": "python",
   "nbconvert_exporter": "python",
   "pygments_lexer": "ipython3",
   "version": "3.7.4"
  },
  "orig_nbformat": 4,
  "vscode": {
   "interpreter": {
    "hash": "bf578ae2f05cd0bf79fc58c6d9676327b42cc704d3c90195b19dcfd7d863a264"
   }
  }
 },
 "nbformat": 4,
 "nbformat_minor": 2
}
