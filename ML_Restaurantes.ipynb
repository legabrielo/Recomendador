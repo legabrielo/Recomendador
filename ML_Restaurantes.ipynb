{
 "cells": [
  {
   "attachments": {},
   "cell_type": "markdown",
   "metadata": {},
   "source": [
    "# Nuevo Proyecto Machine Learning \n",
    "\n",
    "- Este proyecto será un recomendador donde la persona deberá de poner ciertos features para recomendar un restaurante dentro de los que están en la guía Michelin. \n",
    "\n",
    "\n",
    "\n"
   ]
  },
  {
   "cell_type": "code",
   "execution_count": 51,
   "metadata": {},
   "outputs": [],
   "source": [
    "#Para la manipulación de datos\n",
    "import pandas as pd\n",
    "import time\n",
    "import numpy as np\n",
    "\n",
    "#Servicio y driver de Chrome de Selenium\n",
    "from selenium import webdriver\n",
    "from selenium.webdriver.chrome.service import Service\n",
    "from webdriver_manager.chrome import ChromeDriverManager\n",
    "\n",
    "#Las opciones que vamos a tener para buscar elementos\n",
    "from selenium.webdriver.common.by import By\n",
    "\n",
    "#Para cuando queramos mandar pulsaciones de teclado\n",
    "from selenium.webdriver.common.keys import Keys\n",
    "\n"
   ]
  },
  {
   "cell_type": "code",
   "execution_count": 198,
   "metadata": {},
   "outputs": [],
   "source": [
    "# Creamos la conexión con la página web\n",
    "service = Service(ChromeDriverManager().install())\n",
    "driver = webdriver.Chrome(service=service)\n",
    "time.sleep(2)"
   ]
  },
  {
   "cell_type": "code",
   "execution_count": 199,
   "metadata": {},
   "outputs": [],
   "source": [
    "# Ponemos la página web \n",
    "url = 'https://guide.michelin.com/es/es'\n",
    "driver.get(url)\n"
   ]
  },
  {
   "cell_type": "code",
   "execution_count": 54,
   "metadata": {},
   "outputs": [
    {
     "name": "stdout",
     "output_type": "stream",
     "text": [
      "Aceptar y cerrar\n"
     ]
    }
   ],
   "source": [
    "\n",
    "## Encontrar elementos por clase\n",
    "# elements_by_class_name = driver.find_element(By.CLASS_NAME, 'ot-sdk-row')\n",
    "# print(elements_by_class_name.text)\n",
    "\n",
    "elements_by_ID = driver.find_element(By.ID, 'didomi-notice-agree-button')\n",
    "print(elements_by_ID.text)\n",
    "# elements_by_ID esta hecho para encontrar el boton de aceptar, este es el que sirve"
   ]
  },
  {
   "cell_type": "code",
   "execution_count": 200,
   "metadata": {},
   "outputs": [],
   "source": [
    "# Aceptamos las cookies \n",
    "acepto = driver.find_element(By.ID, 'didomi-notice-agree-button')\n",
    "acepto.click()"
   ]
  },
  {
   "cell_type": "code",
   "execution_count": 201,
   "metadata": {},
   "outputs": [],
   "source": [
    "# Seleccionamos la barra y escribimos Madrid \n",
    "# Por ralguna razon el codigo solo me va cuando esta abierta la ventana del chrome a mitad \n",
    "# Hay algo en el codigo de la página que hace que el ID pase de ser 'autocomplete-0-input' a 'autocomplete-1-input'\n",
    "\n",
    "text = driver.find_element(By.ID, 'autocomplete-0-input')\n",
    "\n",
    "text.click()\n",
    "time.sleep(2)\n",
    "text.send_keys('Madrid')\n",
    "time.sleep(2)\n",
    "text.send_keys(Keys.ENTER)"
   ]
  },
  {
   "cell_type": "code",
   "execution_count": 57,
   "metadata": {},
   "outputs": [
    {
     "name": "stdout",
     "output_type": "stream",
     "text": [
      "Paco Roncero\n"
     ]
    }
   ],
   "source": [
    "# Sacamos el nombre del restaurante \n",
    "\n",
    "titulo = driver.find_element(By.CSS_SELECTOR, 'h3')\n",
    "print(titulo.text)"
   ]
  },
  {
   "cell_type": "code",
   "execution_count": 163,
   "metadata": {},
   "outputs": [
    {
     "name": "stdout",
     "output_type": "stream",
     "text": [
      "Villaviciosa de Odón, España\n"
     ]
    }
   ],
   "source": [
    "# Sacamos la ubicacion del restaurante \n",
    "# /html/body/main/section[1]/div/div/div[2]/div[1]/div/div[2]/div[2]\n",
    "# /html/body/main/section[1]/div/div/div[2]/div[2]/div/div[2]/div[2]\n",
    "# /html/body/main/section[1]/div/div/div[2]/div[3]/div/div[2]/div[2]\n",
    "ubi = driver.find_element(By.XPATH, '/html/body/main/section[1]/div/div/div[2]/div[14]/div/div[2]/div[2]')\n",
    "print(ubi.text)"
   ]
  },
  {
   "cell_type": "code",
   "execution_count": 59,
   "metadata": {},
   "outputs": [
    {
     "name": "stdout",
     "output_type": "stream",
     "text": [
      "€€€€ · Creativa\n"
     ]
    }
   ],
   "source": [
    "# Sacamos los euroes y el estilo del restaurante \n",
    "\n",
    "ubi = driver.find_element(By.XPATH, '/html/body/main/section[1]/div/div/div[2]/div[1]/div/div[2]/div[3]')\n",
    "print(ubi.text)"
   ]
  },
  {
   "cell_type": "code",
   "execution_count": 75,
   "metadata": {},
   "outputs": [],
   "source": [
    "# Cogemos todos los links que hay en la página\n",
    "# Hacemos una lista que tenga todos los URLS disponibles de la página para quedarnos con ellos \n",
    "\n",
    "urls = []\n",
    "for i in range(1,9,1):\n",
    "    link = f'https://guide.michelin.com/es/es/comunidad-de-madrid/madrid/restaurantes/page/{i}'\n",
    "    urls.append(link)"
   ]
  },
  {
   "cell_type": "code",
   "execution_count": 158,
   "metadata": {},
   "outputs": [],
   "source": [
    "ubis = []\n",
    "for i in range(1,21,1):\n",
    "    ho = f'/html/body/main/section[1]/div/div/div[2]/div{[i]}/div/div[2]/div[2]'\n",
    "    ubis.append(ho)"
   ]
  },
  {
   "cell_type": "code",
   "execution_count": 169,
   "metadata": {},
   "outputs": [
    {
     "data": {
      "text/plain": [
       "['https://guide.michelin.com/es/es/comunidad-de-madrid/madrid/restaurantes/page/1',\n",
       " 'https://guide.michelin.com/es/es/comunidad-de-madrid/madrid/restaurantes/page/2',\n",
       " 'https://guide.michelin.com/es/es/comunidad-de-madrid/madrid/restaurantes/page/3',\n",
       " 'https://guide.michelin.com/es/es/comunidad-de-madrid/madrid/restaurantes/page/4',\n",
       " 'https://guide.michelin.com/es/es/comunidad-de-madrid/madrid/restaurantes/page/5',\n",
       " 'https://guide.michelin.com/es/es/comunidad-de-madrid/madrid/restaurantes/page/6',\n",
       " 'https://guide.michelin.com/es/es/comunidad-de-madrid/madrid/restaurantes/page/7',\n",
       " 'https://guide.michelin.com/es/es/comunidad-de-madrid/madrid/restaurantes/page/8']"
      ]
     },
     "execution_count": 169,
     "metadata": {},
     "output_type": "execute_result"
    }
   ],
   "source": [
    "urls"
   ]
  },
  {
   "cell_type": "code",
   "execution_count": 238,
   "metadata": {},
   "outputs": [
    {
     "name": "stdout",
     "output_type": "stream",
     "text": [
      "https://guide.michelin.com/es/es/comunidad-de-madrid/madrid/restaurantes/page/1\n",
      "https://guide.michelin.com/es/es/comunidad-de-madrid/madrid/restaurantes/page/2\n",
      "https://guide.michelin.com/es/es/comunidad-de-madrid/madrid/restaurantes/page/3\n",
      "https://guide.michelin.com/es/es/comunidad-de-madrid/madrid/restaurantes/page/4\n",
      "https://guide.michelin.com/es/es/comunidad-de-madrid/madrid/restaurantes/page/5\n",
      "https://guide.michelin.com/es/es/comunidad-de-madrid/madrid/restaurantes/page/6\n",
      "https://guide.michelin.com/es/es/comunidad-de-madrid/madrid/restaurantes/page/7\n",
      "https://guide.michelin.com/es/es/comunidad-de-madrid/madrid/restaurantes/page/8\n"
     ]
    }
   ],
   "source": [
    "# Hacemos el bucle para sacar los 154 datos\n",
    "\n",
    "\n",
    "lista_nombres = []\n",
    "lista_ubis = []\n",
    "lista_estilos = []\n",
    "\n",
    "for url in urls[:]:\n",
    "    # Ponemos el servidor donde queremos navegar \n",
    "\n",
    "    service = Service(ChromeDriverManager().install())\n",
    "    driver = webdriver.Chrome(service=service)\n",
    "    time.sleep(2)\n",
    "    driver.get(url)\n",
    "    time.sleep(2)\n",
    "\n",
    "    # Le damos click al boton de cookies \n",
    "    acepto = driver.find_element(By.ID, 'didomi-notice-agree-button')\n",
    "    acepto.click()\n",
    "\n",
    "    # Empezamos a crear los dataframes\n",
    "    nombre = driver.find_elements(By.CSS_SELECTOR, 'h3')\n",
    "    nombres = []\n",
    "    for titol in nombre:\n",
    "        nombres.append(titol.text)\n",
    "\n",
    "    if url != 'https://guide.michelin.com/es/es/comunidad-de-madrid/madrid/restaurantes/page/8':\n",
    "        for i in range(1,21,1):\n",
    "            ubi = driver.find_element(By.XPATH, value = f'/html/body/main/section[1]/div/div/div[2]/div{[i]}/div/div[2]/div[2]')\n",
    "            ubicacion = []\n",
    "            a = ubi.text\n",
    "            ubicacion.append(a)\n",
    "            lista_ubis.append(ubicacion)\n",
    "    else: \n",
    "        for i in range(1,15,1):\n",
    "            ubi = driver.find_element(By.XPATH, value = f'/html/body/main/section[1]/div/div/div[2]/div{[i]}/div/div[2]/div[2]')\n",
    "            ubicacion = []\n",
    "            a = ubi.text\n",
    "            ubicacion.append(a)\n",
    "            lista_ubis.append(ubicacion)\n",
    "\n",
    "\n",
    "    if url != 'https://guide.michelin.com/es/es/comunidad-de-madrid/madrid/restaurantes/page/8':\n",
    "        for i in range(1,21,1):\n",
    "            estilo = driver.find_element(By.XPATH, value = f'/html/body/main/section[1]/div/div/div[2]/div{[i]}/div/div[2]/div[3]')\n",
    "            style = []\n",
    "            b = estilo.text\n",
    "            style.append(b)\n",
    "            lista_estilos.append(style)\n",
    "    else: \n",
    "        for i in range(1,15,1):\n",
    "            estilo = driver.find_element(By.XPATH, value = f'/html/body/main/section[1]/div/div/div[2]/div{[i]}/div/div[2]/div[3]')\n",
    "            style = []\n",
    "            b = estilo.text\n",
    "            style.append(b)\n",
    "            lista_estilos.append(style)\n",
    "\n",
    "    lista_nombres.append(nombres)\n",
    "    print(url)\n",
    "    time.sleep(1)\n"
   ]
  },
  {
   "cell_type": "code",
   "execution_count": 239,
   "metadata": {},
   "outputs": [
    {
     "data": {
      "text/plain": [
       "[['€€€€ · Creativa'],\n",
       " ['€€€ · Creativa'],\n",
       " ['€€€ · Japonesa'],\n",
       " ['€€ · Creativa'],\n",
       " ['€€ · Tradicional'],\n",
       " ['€€€ · Japonesa'],\n",
       " ['€€€ · Regional'],\n",
       " ['€€€ · Pescados y mariscos'],\n",
       " ['€€ · Moderna'],\n",
       " ['€ · Fusión'],\n",
       " ['€€ · Actual'],\n",
       " ['€€ · Creativa'],\n",
       " ['€€ · Moderna'],\n",
       " ['€€ · Tradicional'],\n",
       " ['€€€ · Internacional'],\n",
       " ['€ · Fusión'],\n",
       " ['€€ · Fusión'],\n",
       " ['€€ · Tradicional'],\n",
       " ['€€€ · Clásica'],\n",
       " ['€€€€ · Creativa'],\n",
       " ['€€€ · Italiana'],\n",
       " ['€€€ · Clásica'],\n",
       " ['€€€ · Cocina mediterránea'],\n",
       " ['€€ · Gallega'],\n",
       " ['€€€ · Peruana'],\n",
       " ['€€€€ · Japonesa'],\n",
       " ['€€€ · Moderna'],\n",
       " ['€€€ · Francesa'],\n",
       " ['€€ · Cocina de mercado'],\n",
       " ['€€€ · Moderna'],\n",
       " ['€€ · Mexicana'],\n",
       " ['€€€€ · Creativa'],\n",
       " ['€€€ · Japonesa'],\n",
       " ['€€ · Tradicional'],\n",
       " ['€€ · Moderna'],\n",
       " ['€€ · Italiana'],\n",
       " ['€€€ · Mexicana'],\n",
       " ['€€ · Vegetariana'],\n",
       " ['€€ · Fusión'],\n",
       " ['€€ · A la Parrilla'],\n",
       " ['€€€ · A la Parrilla'],\n",
       " ['€€ · Actual'],\n",
       " ['€€€ · Moderna'],\n",
       " ['€€ · Tradicional'],\n",
       " ['€€ · Hindú'],\n",
       " ['€€ · Fusión'],\n",
       " ['€€€ · Creativa'],\n",
       " ['€€€ · Actual'],\n",
       " ['€€€€ · Fusión'],\n",
       " ['€€€ · Moderna'],\n",
       " ['€€€€ · Moderna'],\n",
       " ['€€ · Tradicional'],\n",
       " ['€€€€ · Japonesa'],\n",
       " ['€€ · Gallega'],\n",
       " ['€€€ · Tradicional'],\n",
       " ['€€€ · Japonesa'],\n",
       " ['€€€ · Japonesa'],\n",
       " ['€€€€ · Francesa moderna'],\n",
       " ['€ · Tradicional'],\n",
       " ['€€ · Mexicana'],\n",
       " ['€€€ · Mexicana'],\n",
       " ['€€ · Cocina mediterránea'],\n",
       " ['€€€ · Tradicional'],\n",
       " ['€€ · Fusión'],\n",
       " ['€€€ · Fusión'],\n",
       " ['€€€€ · Creativa'],\n",
       " ['€€€ · Fusión'],\n",
       " ['€€€ · Hindú'],\n",
       " ['€€€€ · Creativa'],\n",
       " ['€€ · Tradicional'],\n",
       " ['€€ · Fusión'],\n",
       " ['€€ · China'],\n",
       " ['€€€ · Moderna'],\n",
       " ['€€€ · Moderna'],\n",
       " ['€€ · Tradicional'],\n",
       " ['€€ · Japonesa'],\n",
       " ['€€ · Castellana'],\n",
       " ['€€ · Fusión'],\n",
       " ['€€ · Tradicional'],\n",
       " ['€€ · Innovadora'],\n",
       " ['€€ · Tradicional'],\n",
       " ['€€€ · Japonesa contemporánea'],\n",
       " ['€€€ · Tradicional'],\n",
       " ['€€ · Internacional'],\n",
       " ['€€ · Cocina de temporada'],\n",
       " ['€€€ · Gallega'],\n",
       " ['€€€ · Fusión'],\n",
       " ['€€ · Actual'],\n",
       " ['€€€ · Tradicional'],\n",
       " ['€€ · Fusión'],\n",
       " ['€€ · Japonesa'],\n",
       " ['€€€ · Colombiana'],\n",
       " ['€€€ · Japonesa'],\n",
       " ['€€€ · Tradicional'],\n",
       " ['€€€ · Moderna'],\n",
       " ['€€€ · Creativa'],\n",
       " ['€€ · Moderna'],\n",
       " ['€€€ · Moderna'],\n",
       " ['€€€ · Cocina de mercado'],\n",
       " ['€€€ · Carnes a la parrilla'],\n",
       " ['€€€€ · Actual'],\n",
       " ['€€€ · Japonesa'],\n",
       " ['€€€€ · Clásica'],\n",
       " ['€€€ · Andaluza'],\n",
       " ['€€€€ · Creativa'],\n",
       " ['€€€€ · Internacional'],\n",
       " ['€€€ · Moderna'],\n",
       " ['€€ · Cocina de mercado'],\n",
       " ['€€€ · Cocina de mercado'],\n",
       " ['€€€ · Steakhouse japonesa'],\n",
       " ['€€ · Yakitori'],\n",
       " ['€€€ · Actual'],\n",
       " ['€€€ · Argentina'],\n",
       " ['€€ · Tradicional'],\n",
       " ['€€ · Moderna'],\n",
       " ['€€€ · Japonesa'],\n",
       " ['€€ · Tradicional'],\n",
       " ['€ · Cocina de temporada'],\n",
       " ['€€€€ · Vegetariana'],\n",
       " ['€€€ · Moderna'],\n",
       " ['€€€ · Creativa'],\n",
       " ['€€€€ · Pescados y mariscos'],\n",
       " ['€€€ · Japonesa'],\n",
       " ['€€€ · Moderna'],\n",
       " ['€€ · Tradicional'],\n",
       " ['€€ · Creativa'],\n",
       " ['€€ · Tradicional'],\n",
       " ['€€ · Mexicana'],\n",
       " ['€€ · Tradicional'],\n",
       " ['€€€€ · Japonesa'],\n",
       " ['€€€ · Tradicional'],\n",
       " ['€€€€ · Creativa'],\n",
       " ['€€€€ · Japonesa'],\n",
       " ['€€€ · Carnes a la parrilla'],\n",
       " ['€€ · Tradicional'],\n",
       " ['€€ · Asturiana'],\n",
       " ['€€€€ · Fusión'],\n",
       " ['€€ · Tradicional'],\n",
       " ['€€ · Tradicional'],\n",
       " ['€€€ · Moderna'],\n",
       " ['€€ · Vasca'],\n",
       " ['€€ · Española'],\n",
       " ['€€€ · Tradicional'],\n",
       " ['€€ · Peruana'],\n",
       " ['€€€ · Japonesa'],\n",
       " ['€€€ · Tradicional'],\n",
       " ['€€ · Cocina de mercado'],\n",
       " ['€€ · Carnes a la parrilla'],\n",
       " ['€€€ · Pescados y mariscos'],\n",
       " ['€€€ · Japonesa'],\n",
       " ['€€ · Moderna'],\n",
       " ['€€ · Tradicional'],\n",
       " ['€€ · Tradicional'],\n",
       " ['€€ · Creativa']]"
      ]
     },
     "execution_count": 239,
     "metadata": {},
     "output_type": "execute_result"
    }
   ],
   "source": [
    "lista_estilos"
   ]
  },
  {
   "cell_type": "code",
   "execution_count": null,
   "metadata": {},
   "outputs": [],
   "source": [
    "# links = driver.find_element(By.CSS_SELECTOR, value =\"a\").get_attribute(\"href\")\n",
    "# print(links)\n",
    "# # aqui nos sale solo la pagina principal de madrid cuando nos deberia salir /Restaurants-g187514-Madrid-Vacations-html"
   ]
  },
  {
   "cell_type": "code",
   "execution_count": null,
   "metadata": {},
   "outputs": [],
   "source": [
    "# t = driver.current_url\n",
    "# print(t)\n",
    "# aqui tenemos el link de todos "
   ]
  },
  {
   "cell_type": "code",
   "execution_count": null,
   "metadata": {},
   "outputs": [],
   "source": [
    "# enter = driver.find_element(By.CSS_SELECTOR, value =\"a\").get_attribute(\"href\")\n",
    "# print(enter)\n",
    "# # se me imprim una ñiosta vacia "
   ]
  },
  {
   "cell_type": "code",
   "execution_count": null,
   "metadata": {},
   "outputs": [],
   "source": [
    "# titulo = driver.find_elements(by=By.CSS_SELECTOR, value=\"div.RfBGI\")\n",
    "# nombres=[]\n",
    "# for nombre in titulo:\n",
    "#     nombres.append(nombre.text)\n",
    "# nombres"
   ]
  },
  {
   "cell_type": "code",
   "execution_count": null,
   "metadata": {},
   "outputs": [],
   "source": [
    "\n",
    "# adelante = driver.find_element(By.XPATH, '//*[@id=\"EATERY_LIST_CONTENTS\"]/div[2]/div/a[2]')\n",
    "# adelante.click()"
   ]
  },
  {
   "cell_type": "code",
   "execution_count": null,
   "metadata": {},
   "outputs": [],
   "source": [
    "# split"
   ]
  },
  {
   "cell_type": "code",
   "execution_count": null,
   "metadata": {},
   "outputs": [],
   "source": [
    "# puntuacion= driver.find_elements(by=By.TAG_NAME, value='svg')\n",
    "# type(puntuacion)"
   ]
  },
  {
   "cell_type": "code",
   "execution_count": null,
   "metadata": {},
   "outputs": [
    {
     "ename": "StaleElementReferenceException",
     "evalue": "Message: stale element reference: element is not attached to the page document\n  (Session info: chrome=112.0.5615.138)\nStacktrace:\nBacktrace:\n\tGetHandleVerifier [0x0069DCE3+50899]\n\t(No symbol) [0x0062E111]\n\t(No symbol) [0x00535588]\n\t(No symbol) [0x00537EDB]\n\t(No symbol) [0x00537DB0]\n\t(No symbol) [0x00538030]\n\t(No symbol) [0x00561E3D]\n\t(No symbol) [0x005592ED]\n\t(No symbol) [0x0057B8FC]\n\t(No symbol) [0x00558EC6]\n\t(No symbol) [0x0057BC54]\n\t(No symbol) [0x0058E01C]\n\t(No symbol) [0x0057B6F6]\n\t(No symbol) [0x00557708]\n\t(No symbol) [0x0055886D]\n\tGetHandleVerifier [0x00903EAE+2566302]\n\tGetHandleVerifier [0x009392B1+2784417]\n\tGetHandleVerifier [0x0093327C+2759788]\n\tGetHandleVerifier [0x00735740+672048]\n\t(No symbol) [0x00638872]\n\t(No symbol) [0x006341C8]\n\t(No symbol) [0x006342AB]\n\t(No symbol) [0x006271B7]\n\tBaseThreadInitThunk [0x75210099+25]\n\tRtlGetAppContainerNamedObjectPath [0x77037B6E+286]\n\tRtlGetAppContainerNamedObjectPath [0x77037B3E+238]\n",
     "output_type": "error",
     "traceback": [
      "\u001b[1;31m---------------------------------------------------------------------------\u001b[0m",
      "\u001b[1;31mStaleElementReferenceException\u001b[0m            Traceback (most recent call last)",
      "\u001b[1;32m~\\AppData\\Local\\Temp\\ipykernel_2780\\2687112263.py\u001b[0m in \u001b[0;36m<module>\u001b[1;34m\u001b[0m\n\u001b[0;32m     10\u001b[0m \u001b[1;32mwhile\u001b[0m \u001b[1;32mTrue\u001b[0m\u001b[1;33m:\u001b[0m\u001b[1;33m\u001b[0m\u001b[1;33m\u001b[0m\u001b[0m\n\u001b[0;32m     11\u001b[0m     \u001b[0melement\u001b[0m \u001b[1;33m=\u001b[0m \u001b[0mWebDriverWait\u001b[0m\u001b[1;33m(\u001b[0m\u001b[0mdriver\u001b[0m\u001b[1;33m,\u001b[0m \u001b[1;36m5\u001b[0m\u001b[1;33m)\u001b[0m\u001b[1;33m.\u001b[0m\u001b[0muntil\u001b[0m\u001b[1;33m(\u001b[0m\u001b[0mEC\u001b[0m\u001b[1;33m.\u001b[0m\u001b[0mpresence_of_element_located\u001b[0m\u001b[1;33m(\u001b[0m\u001b[1;33m(\u001b[0m\u001b[0mBy\u001b[0m\u001b[1;33m.\u001b[0m\u001b[0mLINK_TEXT\u001b[0m\u001b[1;33m,\u001b[0m \u001b[1;34m\"Siguiente\"\u001b[0m\u001b[1;33m)\u001b[0m\u001b[1;33m)\u001b[0m\u001b[1;33m)\u001b[0m\u001b[1;33m\u001b[0m\u001b[1;33m\u001b[0m\u001b[0m\n\u001b[1;32m---> 12\u001b[1;33m     \u001b[0melement\u001b[0m\u001b[1;33m.\u001b[0m\u001b[0mclick\u001b[0m\u001b[1;33m(\u001b[0m\u001b[1;33m)\u001b[0m\u001b[1;33m\u001b[0m\u001b[1;33m\u001b[0m\u001b[0m\n\u001b[0m\u001b[0;32m     13\u001b[0m \u001b[1;33m\u001b[0m\u001b[0m\n",
      "\u001b[1;32mc:\\Users\\Gabriel Castillo\\AppData\\Local\\Programs\\Python\\Python37\\lib\\site-packages\\selenium\\webdriver\\remote\\webelement.py\u001b[0m in \u001b[0;36mclick\u001b[1;34m(self)\u001b[0m\n\u001b[0;32m     86\u001b[0m     \u001b[1;32mdef\u001b[0m \u001b[0mclick\u001b[0m\u001b[1;33m(\u001b[0m\u001b[0mself\u001b[0m\u001b[1;33m)\u001b[0m \u001b[1;33m->\u001b[0m \u001b[1;32mNone\u001b[0m\u001b[1;33m:\u001b[0m\u001b[1;33m\u001b[0m\u001b[1;33m\u001b[0m\u001b[0m\n\u001b[0;32m     87\u001b[0m         \u001b[1;34m\"\"\"Clicks the element.\"\"\"\u001b[0m\u001b[1;33m\u001b[0m\u001b[1;33m\u001b[0m\u001b[0m\n\u001b[1;32m---> 88\u001b[1;33m         \u001b[0mself\u001b[0m\u001b[1;33m.\u001b[0m\u001b[0m_execute\u001b[0m\u001b[1;33m(\u001b[0m\u001b[0mCommand\u001b[0m\u001b[1;33m.\u001b[0m\u001b[0mCLICK_ELEMENT\u001b[0m\u001b[1;33m)\u001b[0m\u001b[1;33m\u001b[0m\u001b[1;33m\u001b[0m\u001b[0m\n\u001b[0m\u001b[0;32m     89\u001b[0m \u001b[1;33m\u001b[0m\u001b[0m\n\u001b[0;32m     90\u001b[0m     \u001b[1;32mdef\u001b[0m \u001b[0msubmit\u001b[0m\u001b[1;33m(\u001b[0m\u001b[0mself\u001b[0m\u001b[1;33m)\u001b[0m\u001b[1;33m:\u001b[0m\u001b[1;33m\u001b[0m\u001b[1;33m\u001b[0m\u001b[0m\n",
      "\u001b[1;32mc:\\Users\\Gabriel Castillo\\AppData\\Local\\Programs\\Python\\Python37\\lib\\site-packages\\selenium\\webdriver\\remote\\webelement.py\u001b[0m in \u001b[0;36m_execute\u001b[1;34m(self, command, params)\u001b[0m\n\u001b[0;32m    394\u001b[0m             \u001b[0mparams\u001b[0m \u001b[1;33m=\u001b[0m \u001b[1;33m{\u001b[0m\u001b[1;33m}\u001b[0m\u001b[1;33m\u001b[0m\u001b[1;33m\u001b[0m\u001b[0m\n\u001b[0;32m    395\u001b[0m         \u001b[0mparams\u001b[0m\u001b[1;33m[\u001b[0m\u001b[1;34m'id'\u001b[0m\u001b[1;33m]\u001b[0m \u001b[1;33m=\u001b[0m \u001b[0mself\u001b[0m\u001b[1;33m.\u001b[0m\u001b[0m_id\u001b[0m\u001b[1;33m\u001b[0m\u001b[1;33m\u001b[0m\u001b[0m\n\u001b[1;32m--> 396\u001b[1;33m         \u001b[1;32mreturn\u001b[0m \u001b[0mself\u001b[0m\u001b[1;33m.\u001b[0m\u001b[0m_parent\u001b[0m\u001b[1;33m.\u001b[0m\u001b[0mexecute\u001b[0m\u001b[1;33m(\u001b[0m\u001b[0mcommand\u001b[0m\u001b[1;33m,\u001b[0m \u001b[0mparams\u001b[0m\u001b[1;33m)\u001b[0m\u001b[1;33m\u001b[0m\u001b[1;33m\u001b[0m\u001b[0m\n\u001b[0m\u001b[0;32m    397\u001b[0m \u001b[1;33m\u001b[0m\u001b[0m\n\u001b[0;32m    398\u001b[0m     \u001b[1;32mdef\u001b[0m \u001b[0mfind_element\u001b[0m\u001b[1;33m(\u001b[0m\u001b[0mself\u001b[0m\u001b[1;33m,\u001b[0m \u001b[0mby\u001b[0m\u001b[1;33m=\u001b[0m\u001b[0mBy\u001b[0m\u001b[1;33m.\u001b[0m\u001b[0mID\u001b[0m\u001b[1;33m,\u001b[0m \u001b[0mvalue\u001b[0m\u001b[1;33m=\u001b[0m\u001b[1;32mNone\u001b[0m\u001b[1;33m)\u001b[0m \u001b[1;33m->\u001b[0m \u001b[0mWebElement\u001b[0m\u001b[1;33m:\u001b[0m\u001b[1;33m\u001b[0m\u001b[1;33m\u001b[0m\u001b[0m\n",
      "\u001b[1;32mc:\\Users\\Gabriel Castillo\\AppData\\Local\\Programs\\Python\\Python37\\lib\\site-packages\\selenium\\webdriver\\remote\\webdriver.py\u001b[0m in \u001b[0;36mexecute\u001b[1;34m(self, driver_command, params)\u001b[0m\n\u001b[0;32m    427\u001b[0m         \u001b[0mresponse\u001b[0m \u001b[1;33m=\u001b[0m \u001b[0mself\u001b[0m\u001b[1;33m.\u001b[0m\u001b[0mcommand_executor\u001b[0m\u001b[1;33m.\u001b[0m\u001b[0mexecute\u001b[0m\u001b[1;33m(\u001b[0m\u001b[0mdriver_command\u001b[0m\u001b[1;33m,\u001b[0m \u001b[0mparams\u001b[0m\u001b[1;33m)\u001b[0m\u001b[1;33m\u001b[0m\u001b[1;33m\u001b[0m\u001b[0m\n\u001b[0;32m    428\u001b[0m         \u001b[1;32mif\u001b[0m \u001b[0mresponse\u001b[0m\u001b[1;33m:\u001b[0m\u001b[1;33m\u001b[0m\u001b[1;33m\u001b[0m\u001b[0m\n\u001b[1;32m--> 429\u001b[1;33m             \u001b[0mself\u001b[0m\u001b[1;33m.\u001b[0m\u001b[0merror_handler\u001b[0m\u001b[1;33m.\u001b[0m\u001b[0mcheck_response\u001b[0m\u001b[1;33m(\u001b[0m\u001b[0mresponse\u001b[0m\u001b[1;33m)\u001b[0m\u001b[1;33m\u001b[0m\u001b[1;33m\u001b[0m\u001b[0m\n\u001b[0m\u001b[0;32m    430\u001b[0m             response['value'] = self._unwrap_value(\n\u001b[0;32m    431\u001b[0m                 response.get('value', None))\n",
      "\u001b[1;32mc:\\Users\\Gabriel Castillo\\AppData\\Local\\Programs\\Python\\Python37\\lib\\site-packages\\selenium\\webdriver\\remote\\errorhandler.py\u001b[0m in \u001b[0;36mcheck_response\u001b[1;34m(self, response)\u001b[0m\n\u001b[0;32m    241\u001b[0m                 \u001b[0malert_text\u001b[0m \u001b[1;33m=\u001b[0m \u001b[0mvalue\u001b[0m\u001b[1;33m[\u001b[0m\u001b[1;34m'alert'\u001b[0m\u001b[1;33m]\u001b[0m\u001b[1;33m.\u001b[0m\u001b[0mget\u001b[0m\u001b[1;33m(\u001b[0m\u001b[1;34m'text'\u001b[0m\u001b[1;33m)\u001b[0m\u001b[1;33m\u001b[0m\u001b[1;33m\u001b[0m\u001b[0m\n\u001b[0;32m    242\u001b[0m             \u001b[1;32mraise\u001b[0m \u001b[0mexception_class\u001b[0m\u001b[1;33m(\u001b[0m\u001b[0mmessage\u001b[0m\u001b[1;33m,\u001b[0m \u001b[0mscreen\u001b[0m\u001b[1;33m,\u001b[0m \u001b[0mstacktrace\u001b[0m\u001b[1;33m,\u001b[0m \u001b[0malert_text\u001b[0m\u001b[1;33m)\u001b[0m  \u001b[1;31m# type: ignore[call-arg]  # mypy is not smart enough here\u001b[0m\u001b[1;33m\u001b[0m\u001b[1;33m\u001b[0m\u001b[0m\n\u001b[1;32m--> 243\u001b[1;33m         \u001b[1;32mraise\u001b[0m \u001b[0mexception_class\u001b[0m\u001b[1;33m(\u001b[0m\u001b[0mmessage\u001b[0m\u001b[1;33m,\u001b[0m \u001b[0mscreen\u001b[0m\u001b[1;33m,\u001b[0m \u001b[0mstacktrace\u001b[0m\u001b[1;33m)\u001b[0m\u001b[1;33m\u001b[0m\u001b[1;33m\u001b[0m\u001b[0m\n\u001b[0m",
      "\u001b[1;31mStaleElementReferenceException\u001b[0m: Message: stale element reference: element is not attached to the page document\n  (Session info: chrome=112.0.5615.138)\nStacktrace:\nBacktrace:\n\tGetHandleVerifier [0x0069DCE3+50899]\n\t(No symbol) [0x0062E111]\n\t(No symbol) [0x00535588]\n\t(No symbol) [0x00537EDB]\n\t(No symbol) [0x00537DB0]\n\t(No symbol) [0x00538030]\n\t(No symbol) [0x00561E3D]\n\t(No symbol) [0x005592ED]\n\t(No symbol) [0x0057B8FC]\n\t(No symbol) [0x00558EC6]\n\t(No symbol) [0x0057BC54]\n\t(No symbol) [0x0058E01C]\n\t(No symbol) [0x0057B6F6]\n\t(No symbol) [0x00557708]\n\t(No symbol) [0x0055886D]\n\tGetHandleVerifier [0x00903EAE+2566302]\n\tGetHandleVerifier [0x009392B1+2784417]\n\tGetHandleVerifier [0x0093327C+2759788]\n\tGetHandleVerifier [0x00735740+672048]\n\t(No symbol) [0x00638872]\n\t(No symbol) [0x006341C8]\n\t(No symbol) [0x006342AB]\n\t(No symbol) [0x006271B7]\n\tBaseThreadInitThunk [0x75210099+25]\n\tRtlGetAppContainerNamedObjectPath [0x77037B6E+286]\n\tRtlGetAppContainerNamedObjectPath [0x77037B3E+238]\n"
     ]
    }
   ],
   "source": [
    "# from selenium.webdriver.support.ui import WebDriverWait\n",
    "# from selenium.webdriver.support import expected_conditions as EC\n",
    "# service = Service(ChromeDriverManager().install())\n",
    "# driver = webdriver.Chrome(service=service)\n",
    "# URL = 'https://www.tripadvisor.es/Restaurants-g187514-Madrid.html'\n",
    "# driver.get(URL)\n",
    "# time.sleep(5)\n",
    "# elements_by_ID = driver.find_element(By.ID, 'onetrust-accept-btn-handler')\n",
    "# elements_by_ID.click()\n",
    "# while True: \n",
    "#     element = WebDriverWait(driver, 5).until(EC.presence_of_element_located((By.LINK_TEXT, \"Siguiente\")))\n",
    "#     element.click()\n",
    "    \n"
   ]
  },
  {
   "cell_type": "code",
   "execution_count": null,
   "metadata": {},
   "outputs": [],
   "source": [
    "# //*[@id=\"EATERY_LIST_CONTENTS\"]/div[2]/div/a[2]\n",
    "# //*[@id=\"EATERY_LIST_CONTENTS\"]/div[2]/div/a\n",
    "# //*[@id=\"EATERY_LIST_CONTENTS\"]/div[2]/div/a[2]\n",
    "# //*[@id=\"EATERY_LIST_CONTENTS\"]/div[2]/div/a[2]"
   ]
  },
  {
   "cell_type": "code",
   "execution_count": null,
   "metadata": {},
   "outputs": [
    {
     "ename": "IndentationError",
     "evalue": "unindent does not match any outer indentation level (<tokenize>, line 100)",
     "output_type": "error",
     "traceback": [
      "\u001b[1;36m  File \u001b[1;32m\"<tokenize>\"\u001b[1;36m, line \u001b[1;32m100\u001b[0m\n\u001b[1;33m    lista_restaurantes.append(data)\u001b[0m\n\u001b[1;37m    ^\u001b[0m\n\u001b[1;31mIndentationError\u001b[0m\u001b[1;31m:\u001b[0m unindent does not match any outer indentation level\n"
     ]
    }
   ],
   "source": [
    "# # titulo = driver.find_elements(by=By.CSS_SELECTOR, value=\"div.RfBGI\")   #esta variable ya funciona y ya recoge todos los restaurantes \n",
    "# # puntuacion= driver.find_elements(by=By.ID, value='aria-label')\n",
    "# # estilo_comida_plata_reviews = driver.find_elements(by=By.CLASS_NAME, value='ABgbd') #esta variable ya funciona y ya recoge las descripciones\n",
    "# # # next = driver.find_element(By.XPATH,'//*[@id=\"EATERY_LIST_CONTENTS\"]/div[3]/div/div/a[1]') #esta variable ya funciona y ya pasa a la sifguiente pagina\n",
    "\n",
    "\n",
    "# \"\"\"\n",
    "# El bucle deberia de:\n",
    "# 1. Pillar nombre (ya esta)\n",
    "# 2. Puntuacion \n",
    "# 3. Pillar precio, #de reviews, tipo de comida y $$ (ya esta )\n",
    "# 4. Avanzar hacia la siguiente y hacer lo mismo \n",
    "\n",
    "# El resultado del bucle deberia de ser: \n",
    "# Un diccionario que se pueda convertir en un dataframe con nombre:valores \n",
    "# \"\"\"\n",
    "\n",
    "# pages = np.arange(1, 2)\n",
    "# count = 1 \n",
    "# lista_restaurantes = []\n",
    "\n",
    "\n",
    "# service = Service(ChromeDriverManager().install())\n",
    "# driver = webdriver.Chrome(service=service)\n",
    "# URL = 'https://www.tripadvisor.es/Restaurants-g187514-Madrid.html'\n",
    "# driver.get(URL)\n",
    "# time.sleep(5)\n",
    "# elements_by_ID = driver.find_element(By.ID, 'onetrust-accept-btn-handler')\n",
    "# elements_by_ID.click()\n",
    "\n",
    "# for restaurante in URL:\n",
    "#     time.sleep(2)\n",
    "#     titulo = driver.find_elements(by=By.CSS_SELECTOR, value=\"div.RfBGI\")\n",
    "#     nombres=[]\n",
    "#     for nombre in titulo:\n",
    "#         nombres.append(nombre.text)\n",
    "#         # puntuacion\n",
    "\n",
    "#     estilo_comida_plata_reviews = driver.find_elements(by=By.CLASS_NAME, value='ABgbd')\n",
    "#     estilo=[]\n",
    "#     for tipo in estilo_comida_plata_reviews :\n",
    "#         estilo.append(tipo.text)\n",
    "\n",
    "#     # estilo\n",
    "#     # n= 1\n",
    "#     # fragmentado=[estilo[i:i + n] for i in range(0, len(estilo), n)]\n",
    "#     # opiniones=[estilo[i:i + n] for i in range(0, len(estilo), n)]\n",
    "#     # estado = [estilo[i:i + n] for i in range(0, len(estilo), n)]\n",
    "#     # tipo_de_comida = [estilo[i:i + n] for i in range(0, len(estilo), n)]\n",
    "#     # precio = [estilo[i:i + n] for i in range(0, len(estilo), n)]\n",
    "\n",
    "#     data = {\"Nombre Restaurante\": nombres,\n",
    "#                 # \"Puntuacion\": puntuacion, \n",
    "#                 \"Ranking\": estilo\n",
    "#                 # \"Opiniones\": opiniones\n",
    "#                 # \"Estado\": estado,\n",
    "#                 # \"Tipo de comida\": tipo_de_comida,\n",
    "#                 # \"Precio\": precio\n",
    "#                 }\n",
    "\n",
    "# lista_restaurantes.append(data)\n",
    "\n",
    "#     # pasamos a la siguiente pagina \n",
    "# for page in list_pages[:3]:\n",
    "#         service = Service(ChromeDriverManager().install())\n",
    "#         driver = webdriver.Chrome(service=service)\n",
    "#         driver.get(page)\n",
    "#         time.sleep(5)\n",
    "#         elements_by_ID = driver.find_element(By.XPATH, '//*[@id=\"onetrust-accept-btn-handler\"]')\n",
    "#         elements_by_ID.click()\n",
    "#         time.sleep(2)\n",
    "#         titulo = driver.find_elements(by=By.CSS_SELECTOR, value=\"div.RfBGI\")\n",
    "#         nombres=[]\n",
    "#         for nombre in titulo:\n",
    "#             nombres.append(nombre.text)\n",
    "#             # puntuacion\n",
    "\n",
    "#         estilo_comida_plata_reviews = driver.find_elements(by=By.CLASS_NAME, value='ABgbd')\n",
    "#         estilo=[]\n",
    "#         for tipo in estilo_comida_plata_reviews :\n",
    "#             estilo.append(tipo.text)\n",
    "\n",
    "#         # estilo\n",
    "#         # n= 1\n",
    "#         # fragmentado=[estilo[i:i + n] for i in range(0, len(estilo), n)]\n",
    "#         # opiniones=[estilo[i:i + n] for i in range(0, len(estilo), n)]\n",
    "#         # estado = [estilo[i:i + n] for i in range(0, len(estilo), n)]\n",
    "#         # tipo_de_comida = [estilo[i:i + n] for i in range(0, len(estilo), n)]\n",
    "#         # precio = [estilo[i:i + n] for i in range(0, len(estilo), n)]\n",
    "\n",
    "#         data = {\"Nombre Restaurante\": nombres,\n",
    "#                     # \"Puntuacion\": puntuacion, \n",
    "#                     \"Ranking\": estilo\n",
    "#                     # \"Opiniones\": opiniones\n",
    "#                     # \"Estado\": estado,\n",
    "#                     # \"Tipo de comida\": tipo_de_comida,\n",
    "#                     # \"Precio\": precio\n",
    "#                     }\n",
    "\n",
    "#     lista_restaurantes.append(data)\n",
    "            \n",
    "\n",
    "#     #     count += 1\n",
    "\n",
    "#     print(data)\n",
    "\n"
   ]
  },
  {
   "cell_type": "code",
   "execution_count": null,
   "metadata": {},
   "outputs": [],
   "source": [
    "# list_pages =[]\n",
    "# for i in range(0, 11950, 30):\n",
    "#     link = f\"https://www.tripadvisor.es/RestaurantSearch-g187514-oa{i}-a_date.2022__2D__11__2D__15-a_people.2-a_time.20%3A00%3A00-a_zur.2022__5F__11__5F__15-Madrid.html#EATERY_LIST_CONTENTS\"\n",
    "#     list_pages.append(link)\n",
    "\n",
    "# for page in list_pages[:3]:\n",
    "#     service = Service(ChromeDriverManager().install())\n",
    "#     driver = webdriver.Chrome(service=service)\n",
    "#     driver.get(page)\n",
    "#     time.sleep(5)\n",
    "#     elements_by_ID = driver.find_element(By.XPATH, '//*[@id=\"onetrust-accept-btn-handler\"]')\n",
    "#     elements_by_ID.click()\n",
    "#     driver.quit()\n",
    "#     time.sleep(5)\n",
    "#     titulo = driver.find_elements(by=By.CSS_SELECTOR, value=\"div.RfBGI\")\n",
    "#     nombres=[]\n",
    "#     for nombre in titulo:\n",
    "#         nombres.append(nombre.text)\n",
    "#             # puntuacion\n",
    "\n",
    "#     estilo_comida_plata_reviews = driver.find_elements(by=By.CLASS_NAME, value='ABgbd')\n",
    "#     estilo=[]\n",
    "#     for tipo in estilo_comida_plata_reviews :\n",
    "#         estilo.append(tipo.text)\n",
    "\n",
    "#         # estilo\n",
    "#         # n= 1\n",
    "#         # fragmentado=[estilo[i:i + n] for i in range(0, len(estilo), n)]\n",
    "#         # opiniones=[estilo[i:i + n] for i in range(0, len(estilo), n)]\n",
    "#         # estado = [estilo[i:i + n] for i in range(0, len(estilo), n)]\n",
    "#         # tipo_de_comida = [estilo[i:i + n] for i in range(0, len(estilo), n)]\n",
    "#         # precio = [estilo[i:i + n] for i in range(0, len(estilo), n)]\n",
    "\n",
    "#     data = {\"Nombre Restaurante\": nombres,\n",
    "#                     # \"Puntuacion\": puntuacion, \n",
    "#                     # \"Ranking\": estilo\n",
    "#                     # \"Opiniones\": opiniones\n",
    "#                     # \"Estado\": estado,\n",
    "#                     # \"Tipo de comida\": tipo_de_comida,\n",
    "#                     # \"Precio\": precio\n",
    "#                     }\n",
    "\n",
    "#     lista_restaurantes.append(data)\n",
    "\n",
    "# print(lista_restaurantes)\n",
    "    "
   ]
  },
  {
   "cell_type": "code",
   "execution_count": null,
   "metadata": {},
   "outputs": [],
   "source": [
    "# estil1 = estilo.copy\n",
    "# n= 1\n",
    "# output=[estilo[i:i + n] for i in range(0, len(estilo), n)]\n",
    "# print(output)\n",
    "# hola = output"
   ]
  },
  {
   "cell_type": "code",
   "execution_count": null,
   "metadata": {},
   "outputs": [],
   "source": [
    "# opiniones = []\n",
    "\n",
    "# for x in hola:\n",
    "#     if not \"opiniones\" in x[0] and not \"Abierto\" in x[0] and not \"Cerrado\" in x[0] and not '€€ - €€€' in x[0] and not '€' in x[0] and not \"Cierra\" in x[0]:\n",
    "#         print(x)\n",
    "  \n"
   ]
  },
  {
   "cell_type": "code",
   "execution_count": null,
   "metadata": {},
   "outputs": [],
   "source": [
    "# opiniones=[op for op in output if op.startswith(str(range(0,10)))]\n",
    "# estado = []\n",
    "# tipo_de_comida = []\n",
    "# precio = []\n",
    "# output\n",
    "# # se hace un bucle que asocie la posicion del articulo a las 3 listas que necesito \n",
    "\n",
    "\n",
    "\n"
   ]
  },
  {
   "cell_type": "code",
   "execution_count": null,
   "metadata": {},
   "outputs": [],
   "source": [
    "# list_pages =[]\n",
    "# for i in range(0, 11950, 30):\n",
    "#     link = f\"https://www.tripadvisor.es/RestaurantSearch-g187514-oa{i}-a_date.2022__2D__11__2D__15-a_people.2-a_time.20%3A00%3A00-a_zur.2022__5F__11__5F__15-Madrid.html#EATERY_LIST_CONTENTS\"\n",
    "#     list_pages.append(link)"
   ]
  }
 ],
 "metadata": {
  "kernelspec": {
   "display_name": "Python 3.7.4 64-bit",
   "language": "python",
   "name": "python3"
  },
  "language_info": {
   "codemirror_mode": {
    "name": "ipython",
    "version": 3
   },
   "file_extension": ".py",
   "mimetype": "text/x-python",
   "name": "python",
   "nbconvert_exporter": "python",
   "pygments_lexer": "ipython3",
   "version": "3.7.4"
  },
  "orig_nbformat": 4,
  "vscode": {
   "interpreter": {
    "hash": "bf578ae2f05cd0bf79fc58c6d9676327b42cc704d3c90195b19dcfd7d863a264"
   }
  }
 },
 "nbformat": 4,
 "nbformat_minor": 2
}
